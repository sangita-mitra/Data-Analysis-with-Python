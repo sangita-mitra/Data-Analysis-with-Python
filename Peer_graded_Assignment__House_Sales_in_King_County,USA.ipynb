{
  "nbformat": 4,
  "nbformat_minor": 0,
  "metadata": {
    "kernelspec": {
      "display_name": "Python 3.6",
      "language": "python",
      "name": "python3"
    },
    "language_info": {
      "codemirror_mode": {
        "name": "ipython",
        "version": 3
      },
      "file_extension": ".py",
      "mimetype": "text/x-python",
      "name": "python",
      "nbconvert_exporter": "python",
      "pygments_lexer": "ipython3",
      "version": "3.6.9"
    },
    "colab": {
      "name": "Peer-graded Assignment_ House Sales in King County,USA.ipynb",
      "provenance": [],
      "collapsed_sections": [],
      "include_colab_link": true
    }
  },
  "cells": [
    {
      "cell_type": "markdown",
      "metadata": {
        "id": "view-in-github",
        "colab_type": "text"
      },
      "source": [
        "<a href=\"https://colab.research.google.com/github/sangita-mitra/Data-Analysis-with-Python/blob/main/Peer_graded_Assignment__House_Sales_in_King_County%2CUSA.ipynb\" target=\"_parent\"><img src=\"https://colab.research.google.com/assets/colab-badge.svg\" alt=\"Open In Colab\"/></a>"
      ]
    },
    {
      "cell_type": "markdown",
      "metadata": {
        "id": "cNekcmntvee7"
      },
      "source": [
        " <a href=\"https://www.bigdatauniversity.com\"><img src = \"https://ibm.box.com/shared/static/ugcqz6ohbvff804xp84y4kqnvvk3bq1g.png\" width = 300, align = \"center\"></a>\n",
        "\n",
        "<h1 align=center><font size = 5>Data Analysis with Python</font></h1>"
      ]
    },
    {
      "cell_type": "markdown",
      "metadata": {
        "id": "RP80krZTvee8"
      },
      "source": [
        "# House Sales in King County, USA"
      ]
    },
    {
      "cell_type": "markdown",
      "metadata": {
        "id": "n1TJC7zcvee8"
      },
      "source": [
        "This dataset contains house sale prices for King County, which includes Seattle. It includes homes sold between May 2014 and May 2015."
      ]
    },
    {
      "cell_type": "markdown",
      "metadata": {
        "id": "xGqLcfg0vee9"
      },
      "source": [
        "<b>id</b> : A notation for a house\n",
        "\n",
        "<b> date</b>: Date house was sold\n",
        "\n",
        "\n",
        "<b>price</b>: Price is prediction target\n",
        "\n",
        "\n",
        "<b>bedrooms</b>: Number of bedrooms\n",
        "\n",
        "\n",
        "<b>bathrooms</b>: Number of bathrooms\n",
        "\n",
        "<b>sqft_living</b>: Square footage of the home\n",
        "\n",
        "<b>sqft_lot</b>: Square footage of the lot\n",
        "\n",
        "\n",
        "<b>floors</b> :Total floors (levels) in house\n",
        "\n",
        "\n",
        "<b>waterfront</b> :House which has a view to a waterfront\n",
        "\n",
        "\n",
        "<b>view</b>: Has been viewed\n",
        "\n",
        "\n",
        "<b>condition</b> :How good the condition is overall\n",
        "\n",
        "<b>grade</b>: overall grade given to the housing unit, based on King County grading system\n",
        "\n",
        "\n",
        "<b>sqft_above</b> : Square footage of house apart from basement\n",
        "\n",
        "\n",
        "<b>sqft_basement</b>: Square footage of the basement\n",
        "\n",
        "<b>yr_built</b> : Built Year\n",
        "\n",
        "\n",
        "<b>yr_renovated</b> : Year when house was renovated\n",
        "\n",
        "<b>zipcode</b>: Zip code\n",
        "\n",
        "\n",
        "<b>lat</b>: Latitude coordinate\n",
        "\n",
        "<b>long</b>: Longitude coordinate\n",
        "\n",
        "<b>sqft_living15</b> : Living room area in 2015(implies-- some renovations) This might or might not have affected the lotsize area\n",
        "\n",
        "\n",
        "<b>sqft_lot15</b> : LotSize area in 2015(implies-- some renovations)"
      ]
    },
    {
      "cell_type": "markdown",
      "metadata": {
        "id": "kq-SVjHkvee-"
      },
      "source": [
        "You will require the following libraries: "
      ]
    },
    {
      "cell_type": "code",
      "metadata": {
        "id": "CYAySF3Jvee-"
      },
      "source": [
        "import pandas as pd\n",
        "import matplotlib.pyplot as plt\n",
        "import numpy as np\n",
        "import seaborn as sns\n",
        "from sklearn.pipeline import Pipeline\n",
        "from sklearn.preprocessing import StandardScaler,PolynomialFeatures\n",
        "from sklearn.linear_model import LinearRegression\n",
        "%matplotlib inline"
      ],
      "execution_count": 4,
      "outputs": []
    },
    {
      "cell_type": "markdown",
      "metadata": {
        "id": "IU5PPr9kvefC"
      },
      "source": [
        "# Module 1: Importing Data Sets "
      ]
    },
    {
      "cell_type": "markdown",
      "metadata": {
        "id": "rVIbdg3nvefD"
      },
      "source": [
        " Load the csv:  "
      ]
    },
    {
      "cell_type": "code",
      "metadata": {
        "jupyter": {
          "outputs_hidden": false
        },
        "id": "7Xc8-TttvefD"
      },
      "source": [
        "file_name='https://s3-api.us-geo.objectstorage.softlayer.net/cf-courses-data/CognitiveClass/DA0101EN/coursera/project/kc_house_data_NaN.csv'\n",
        "df=pd.read_csv(file_name)"
      ],
      "execution_count": 5,
      "outputs": []
    },
    {
      "cell_type": "markdown",
      "metadata": {
        "id": "cH2fqD7CvefJ"
      },
      "source": [
        "\n",
        "We use the method <code>head</code> to display the first 5 columns of the dataframe."
      ]
    },
    {
      "cell_type": "code",
      "metadata": {
        "id": "uxvIvr11vefK",
        "outputId": "784a81e4-ce8a-404e-a48f-f38a9a34cd13",
        "colab": {
          "base_uri": "https://localhost:8080/",
          "height": 232
        }
      },
      "source": [
        "df.head()"
      ],
      "execution_count": 6,
      "outputs": [
        {
          "output_type": "execute_result",
          "data": {
            "text/html": [
              "<div>\n",
              "<style scoped>\n",
              "    .dataframe tbody tr th:only-of-type {\n",
              "        vertical-align: middle;\n",
              "    }\n",
              "\n",
              "    .dataframe tbody tr th {\n",
              "        vertical-align: top;\n",
              "    }\n",
              "\n",
              "    .dataframe thead th {\n",
              "        text-align: right;\n",
              "    }\n",
              "</style>\n",
              "<table border=\"1\" class=\"dataframe\">\n",
              "  <thead>\n",
              "    <tr style=\"text-align: right;\">\n",
              "      <th></th>\n",
              "      <th>Unnamed: 0</th>\n",
              "      <th>id</th>\n",
              "      <th>date</th>\n",
              "      <th>price</th>\n",
              "      <th>bedrooms</th>\n",
              "      <th>bathrooms</th>\n",
              "      <th>sqft_living</th>\n",
              "      <th>sqft_lot</th>\n",
              "      <th>floors</th>\n",
              "      <th>waterfront</th>\n",
              "      <th>view</th>\n",
              "      <th>condition</th>\n",
              "      <th>grade</th>\n",
              "      <th>sqft_above</th>\n",
              "      <th>sqft_basement</th>\n",
              "      <th>yr_built</th>\n",
              "      <th>yr_renovated</th>\n",
              "      <th>zipcode</th>\n",
              "      <th>lat</th>\n",
              "      <th>long</th>\n",
              "      <th>sqft_living15</th>\n",
              "      <th>sqft_lot15</th>\n",
              "    </tr>\n",
              "  </thead>\n",
              "  <tbody>\n",
              "    <tr>\n",
              "      <th>0</th>\n",
              "      <td>0</td>\n",
              "      <td>7129300520</td>\n",
              "      <td>20141013T000000</td>\n",
              "      <td>221900.0</td>\n",
              "      <td>3.0</td>\n",
              "      <td>1.00</td>\n",
              "      <td>1180</td>\n",
              "      <td>5650</td>\n",
              "      <td>1.0</td>\n",
              "      <td>0</td>\n",
              "      <td>0</td>\n",
              "      <td>3</td>\n",
              "      <td>7</td>\n",
              "      <td>1180</td>\n",
              "      <td>0</td>\n",
              "      <td>1955</td>\n",
              "      <td>0</td>\n",
              "      <td>98178</td>\n",
              "      <td>47.5112</td>\n",
              "      <td>-122.257</td>\n",
              "      <td>1340</td>\n",
              "      <td>5650</td>\n",
              "    </tr>\n",
              "    <tr>\n",
              "      <th>1</th>\n",
              "      <td>1</td>\n",
              "      <td>6414100192</td>\n",
              "      <td>20141209T000000</td>\n",
              "      <td>538000.0</td>\n",
              "      <td>3.0</td>\n",
              "      <td>2.25</td>\n",
              "      <td>2570</td>\n",
              "      <td>7242</td>\n",
              "      <td>2.0</td>\n",
              "      <td>0</td>\n",
              "      <td>0</td>\n",
              "      <td>3</td>\n",
              "      <td>7</td>\n",
              "      <td>2170</td>\n",
              "      <td>400</td>\n",
              "      <td>1951</td>\n",
              "      <td>1991</td>\n",
              "      <td>98125</td>\n",
              "      <td>47.7210</td>\n",
              "      <td>-122.319</td>\n",
              "      <td>1690</td>\n",
              "      <td>7639</td>\n",
              "    </tr>\n",
              "    <tr>\n",
              "      <th>2</th>\n",
              "      <td>2</td>\n",
              "      <td>5631500400</td>\n",
              "      <td>20150225T000000</td>\n",
              "      <td>180000.0</td>\n",
              "      <td>2.0</td>\n",
              "      <td>1.00</td>\n",
              "      <td>770</td>\n",
              "      <td>10000</td>\n",
              "      <td>1.0</td>\n",
              "      <td>0</td>\n",
              "      <td>0</td>\n",
              "      <td>3</td>\n",
              "      <td>6</td>\n",
              "      <td>770</td>\n",
              "      <td>0</td>\n",
              "      <td>1933</td>\n",
              "      <td>0</td>\n",
              "      <td>98028</td>\n",
              "      <td>47.7379</td>\n",
              "      <td>-122.233</td>\n",
              "      <td>2720</td>\n",
              "      <td>8062</td>\n",
              "    </tr>\n",
              "    <tr>\n",
              "      <th>3</th>\n",
              "      <td>3</td>\n",
              "      <td>2487200875</td>\n",
              "      <td>20141209T000000</td>\n",
              "      <td>604000.0</td>\n",
              "      <td>4.0</td>\n",
              "      <td>3.00</td>\n",
              "      <td>1960</td>\n",
              "      <td>5000</td>\n",
              "      <td>1.0</td>\n",
              "      <td>0</td>\n",
              "      <td>0</td>\n",
              "      <td>5</td>\n",
              "      <td>7</td>\n",
              "      <td>1050</td>\n",
              "      <td>910</td>\n",
              "      <td>1965</td>\n",
              "      <td>0</td>\n",
              "      <td>98136</td>\n",
              "      <td>47.5208</td>\n",
              "      <td>-122.393</td>\n",
              "      <td>1360</td>\n",
              "      <td>5000</td>\n",
              "    </tr>\n",
              "    <tr>\n",
              "      <th>4</th>\n",
              "      <td>4</td>\n",
              "      <td>1954400510</td>\n",
              "      <td>20150218T000000</td>\n",
              "      <td>510000.0</td>\n",
              "      <td>3.0</td>\n",
              "      <td>2.00</td>\n",
              "      <td>1680</td>\n",
              "      <td>8080</td>\n",
              "      <td>1.0</td>\n",
              "      <td>0</td>\n",
              "      <td>0</td>\n",
              "      <td>3</td>\n",
              "      <td>8</td>\n",
              "      <td>1680</td>\n",
              "      <td>0</td>\n",
              "      <td>1987</td>\n",
              "      <td>0</td>\n",
              "      <td>98074</td>\n",
              "      <td>47.6168</td>\n",
              "      <td>-122.045</td>\n",
              "      <td>1800</td>\n",
              "      <td>7503</td>\n",
              "    </tr>\n",
              "  </tbody>\n",
              "</table>\n",
              "</div>"
            ],
            "text/plain": [
              "   Unnamed: 0          id             date  ...     long  sqft_living15  sqft_lot15\n",
              "0           0  7129300520  20141013T000000  ... -122.257           1340        5650\n",
              "1           1  6414100192  20141209T000000  ... -122.319           1690        7639\n",
              "2           2  5631500400  20150225T000000  ... -122.233           2720        8062\n",
              "3           3  2487200875  20141209T000000  ... -122.393           1360        5000\n",
              "4           4  1954400510  20150218T000000  ... -122.045           1800        7503\n",
              "\n",
              "[5 rows x 22 columns]"
            ]
          },
          "metadata": {
            "tags": []
          },
          "execution_count": 6
        }
      ]
    },
    {
      "cell_type": "markdown",
      "metadata": {
        "id": "Psk4i8-TvefO"
      },
      "source": [
        "### Question 1 \n",
        "Display the data types of each column using the attribute dtype, then take a screenshot and submit it, include your code in the image. "
      ]
    },
    {
      "cell_type": "code",
      "metadata": {
        "jupyter": {
          "outputs_hidden": false
        },
        "id": "A3bXZtsWvefO",
        "outputId": "bba971e3-7360-4b25-900f-453bc0f05396",
        "colab": {
          "base_uri": "https://localhost:8080/",
          "height": 403
        }
      },
      "source": [
        "df.dtypes"
      ],
      "execution_count": 7,
      "outputs": [
        {
          "output_type": "execute_result",
          "data": {
            "text/plain": [
              "Unnamed: 0         int64\n",
              "id                 int64\n",
              "date              object\n",
              "price            float64\n",
              "bedrooms         float64\n",
              "bathrooms        float64\n",
              "sqft_living        int64\n",
              "sqft_lot           int64\n",
              "floors           float64\n",
              "waterfront         int64\n",
              "view               int64\n",
              "condition          int64\n",
              "grade              int64\n",
              "sqft_above         int64\n",
              "sqft_basement      int64\n",
              "yr_built           int64\n",
              "yr_renovated       int64\n",
              "zipcode            int64\n",
              "lat              float64\n",
              "long             float64\n",
              "sqft_living15      int64\n",
              "sqft_lot15         int64\n",
              "dtype: object"
            ]
          },
          "metadata": {
            "tags": []
          },
          "execution_count": 7
        }
      ]
    },
    {
      "cell_type": "markdown",
      "metadata": {
        "id": "i0vKYLJHvefR"
      },
      "source": [
        "We use the method describe to obtain a statistical summary of the dataframe."
      ]
    },
    {
      "cell_type": "code",
      "metadata": {
        "jupyter": {
          "outputs_hidden": false
        },
        "id": "mJZFvmUHvefS",
        "outputId": "ab39cc99-28de-49fa-995b-a056435bcbd5",
        "colab": {
          "base_uri": "https://localhost:8080/",
          "height": 304
        }
      },
      "source": [
        "df.describe()"
      ],
      "execution_count": 8,
      "outputs": [
        {
          "output_type": "execute_result",
          "data": {
            "text/html": [
              "<div>\n",
              "<style scoped>\n",
              "    .dataframe tbody tr th:only-of-type {\n",
              "        vertical-align: middle;\n",
              "    }\n",
              "\n",
              "    .dataframe tbody tr th {\n",
              "        vertical-align: top;\n",
              "    }\n",
              "\n",
              "    .dataframe thead th {\n",
              "        text-align: right;\n",
              "    }\n",
              "</style>\n",
              "<table border=\"1\" class=\"dataframe\">\n",
              "  <thead>\n",
              "    <tr style=\"text-align: right;\">\n",
              "      <th></th>\n",
              "      <th>Unnamed: 0</th>\n",
              "      <th>id</th>\n",
              "      <th>price</th>\n",
              "      <th>bedrooms</th>\n",
              "      <th>bathrooms</th>\n",
              "      <th>sqft_living</th>\n",
              "      <th>sqft_lot</th>\n",
              "      <th>floors</th>\n",
              "      <th>waterfront</th>\n",
              "      <th>view</th>\n",
              "      <th>condition</th>\n",
              "      <th>grade</th>\n",
              "      <th>sqft_above</th>\n",
              "      <th>sqft_basement</th>\n",
              "      <th>yr_built</th>\n",
              "      <th>yr_renovated</th>\n",
              "      <th>zipcode</th>\n",
              "      <th>lat</th>\n",
              "      <th>long</th>\n",
              "      <th>sqft_living15</th>\n",
              "      <th>sqft_lot15</th>\n",
              "    </tr>\n",
              "  </thead>\n",
              "  <tbody>\n",
              "    <tr>\n",
              "      <th>count</th>\n",
              "      <td>21613.00000</td>\n",
              "      <td>2.161300e+04</td>\n",
              "      <td>2.161300e+04</td>\n",
              "      <td>21600.000000</td>\n",
              "      <td>21603.000000</td>\n",
              "      <td>21613.000000</td>\n",
              "      <td>2.161300e+04</td>\n",
              "      <td>21613.000000</td>\n",
              "      <td>21613.000000</td>\n",
              "      <td>21613.000000</td>\n",
              "      <td>21613.000000</td>\n",
              "      <td>21613.000000</td>\n",
              "      <td>21613.000000</td>\n",
              "      <td>21613.000000</td>\n",
              "      <td>21613.000000</td>\n",
              "      <td>21613.000000</td>\n",
              "      <td>21613.000000</td>\n",
              "      <td>21613.000000</td>\n",
              "      <td>21613.000000</td>\n",
              "      <td>21613.000000</td>\n",
              "      <td>21613.000000</td>\n",
              "    </tr>\n",
              "    <tr>\n",
              "      <th>mean</th>\n",
              "      <td>10806.00000</td>\n",
              "      <td>4.580302e+09</td>\n",
              "      <td>5.400881e+05</td>\n",
              "      <td>3.372870</td>\n",
              "      <td>2.115736</td>\n",
              "      <td>2079.899736</td>\n",
              "      <td>1.510697e+04</td>\n",
              "      <td>1.494309</td>\n",
              "      <td>0.007542</td>\n",
              "      <td>0.234303</td>\n",
              "      <td>3.409430</td>\n",
              "      <td>7.656873</td>\n",
              "      <td>1788.390691</td>\n",
              "      <td>291.509045</td>\n",
              "      <td>1971.005136</td>\n",
              "      <td>84.402258</td>\n",
              "      <td>98077.939805</td>\n",
              "      <td>47.560053</td>\n",
              "      <td>-122.213896</td>\n",
              "      <td>1986.552492</td>\n",
              "      <td>12768.455652</td>\n",
              "    </tr>\n",
              "    <tr>\n",
              "      <th>std</th>\n",
              "      <td>6239.28002</td>\n",
              "      <td>2.876566e+09</td>\n",
              "      <td>3.671272e+05</td>\n",
              "      <td>0.926657</td>\n",
              "      <td>0.768996</td>\n",
              "      <td>918.440897</td>\n",
              "      <td>4.142051e+04</td>\n",
              "      <td>0.539989</td>\n",
              "      <td>0.086517</td>\n",
              "      <td>0.766318</td>\n",
              "      <td>0.650743</td>\n",
              "      <td>1.175459</td>\n",
              "      <td>828.090978</td>\n",
              "      <td>442.575043</td>\n",
              "      <td>29.373411</td>\n",
              "      <td>401.679240</td>\n",
              "      <td>53.505026</td>\n",
              "      <td>0.138564</td>\n",
              "      <td>0.140828</td>\n",
              "      <td>685.391304</td>\n",
              "      <td>27304.179631</td>\n",
              "    </tr>\n",
              "    <tr>\n",
              "      <th>min</th>\n",
              "      <td>0.00000</td>\n",
              "      <td>1.000102e+06</td>\n",
              "      <td>7.500000e+04</td>\n",
              "      <td>1.000000</td>\n",
              "      <td>0.500000</td>\n",
              "      <td>290.000000</td>\n",
              "      <td>5.200000e+02</td>\n",
              "      <td>1.000000</td>\n",
              "      <td>0.000000</td>\n",
              "      <td>0.000000</td>\n",
              "      <td>1.000000</td>\n",
              "      <td>1.000000</td>\n",
              "      <td>290.000000</td>\n",
              "      <td>0.000000</td>\n",
              "      <td>1900.000000</td>\n",
              "      <td>0.000000</td>\n",
              "      <td>98001.000000</td>\n",
              "      <td>47.155900</td>\n",
              "      <td>-122.519000</td>\n",
              "      <td>399.000000</td>\n",
              "      <td>651.000000</td>\n",
              "    </tr>\n",
              "    <tr>\n",
              "      <th>25%</th>\n",
              "      <td>5403.00000</td>\n",
              "      <td>2.123049e+09</td>\n",
              "      <td>3.219500e+05</td>\n",
              "      <td>3.000000</td>\n",
              "      <td>1.750000</td>\n",
              "      <td>1427.000000</td>\n",
              "      <td>5.040000e+03</td>\n",
              "      <td>1.000000</td>\n",
              "      <td>0.000000</td>\n",
              "      <td>0.000000</td>\n",
              "      <td>3.000000</td>\n",
              "      <td>7.000000</td>\n",
              "      <td>1190.000000</td>\n",
              "      <td>0.000000</td>\n",
              "      <td>1951.000000</td>\n",
              "      <td>0.000000</td>\n",
              "      <td>98033.000000</td>\n",
              "      <td>47.471000</td>\n",
              "      <td>-122.328000</td>\n",
              "      <td>1490.000000</td>\n",
              "      <td>5100.000000</td>\n",
              "    </tr>\n",
              "    <tr>\n",
              "      <th>50%</th>\n",
              "      <td>10806.00000</td>\n",
              "      <td>3.904930e+09</td>\n",
              "      <td>4.500000e+05</td>\n",
              "      <td>3.000000</td>\n",
              "      <td>2.250000</td>\n",
              "      <td>1910.000000</td>\n",
              "      <td>7.618000e+03</td>\n",
              "      <td>1.500000</td>\n",
              "      <td>0.000000</td>\n",
              "      <td>0.000000</td>\n",
              "      <td>3.000000</td>\n",
              "      <td>7.000000</td>\n",
              "      <td>1560.000000</td>\n",
              "      <td>0.000000</td>\n",
              "      <td>1975.000000</td>\n",
              "      <td>0.000000</td>\n",
              "      <td>98065.000000</td>\n",
              "      <td>47.571800</td>\n",
              "      <td>-122.230000</td>\n",
              "      <td>1840.000000</td>\n",
              "      <td>7620.000000</td>\n",
              "    </tr>\n",
              "    <tr>\n",
              "      <th>75%</th>\n",
              "      <td>16209.00000</td>\n",
              "      <td>7.308900e+09</td>\n",
              "      <td>6.450000e+05</td>\n",
              "      <td>4.000000</td>\n",
              "      <td>2.500000</td>\n",
              "      <td>2550.000000</td>\n",
              "      <td>1.068800e+04</td>\n",
              "      <td>2.000000</td>\n",
              "      <td>0.000000</td>\n",
              "      <td>0.000000</td>\n",
              "      <td>4.000000</td>\n",
              "      <td>8.000000</td>\n",
              "      <td>2210.000000</td>\n",
              "      <td>560.000000</td>\n",
              "      <td>1997.000000</td>\n",
              "      <td>0.000000</td>\n",
              "      <td>98118.000000</td>\n",
              "      <td>47.678000</td>\n",
              "      <td>-122.125000</td>\n",
              "      <td>2360.000000</td>\n",
              "      <td>10083.000000</td>\n",
              "    </tr>\n",
              "    <tr>\n",
              "      <th>max</th>\n",
              "      <td>21612.00000</td>\n",
              "      <td>9.900000e+09</td>\n",
              "      <td>7.700000e+06</td>\n",
              "      <td>33.000000</td>\n",
              "      <td>8.000000</td>\n",
              "      <td>13540.000000</td>\n",
              "      <td>1.651359e+06</td>\n",
              "      <td>3.500000</td>\n",
              "      <td>1.000000</td>\n",
              "      <td>4.000000</td>\n",
              "      <td>5.000000</td>\n",
              "      <td>13.000000</td>\n",
              "      <td>9410.000000</td>\n",
              "      <td>4820.000000</td>\n",
              "      <td>2015.000000</td>\n",
              "      <td>2015.000000</td>\n",
              "      <td>98199.000000</td>\n",
              "      <td>47.777600</td>\n",
              "      <td>-121.315000</td>\n",
              "      <td>6210.000000</td>\n",
              "      <td>871200.000000</td>\n",
              "    </tr>\n",
              "  </tbody>\n",
              "</table>\n",
              "</div>"
            ],
            "text/plain": [
              "        Unnamed: 0            id  ...  sqft_living15     sqft_lot15\n",
              "count  21613.00000  2.161300e+04  ...   21613.000000   21613.000000\n",
              "mean   10806.00000  4.580302e+09  ...    1986.552492   12768.455652\n",
              "std     6239.28002  2.876566e+09  ...     685.391304   27304.179631\n",
              "min        0.00000  1.000102e+06  ...     399.000000     651.000000\n",
              "25%     5403.00000  2.123049e+09  ...    1490.000000    5100.000000\n",
              "50%    10806.00000  3.904930e+09  ...    1840.000000    7620.000000\n",
              "75%    16209.00000  7.308900e+09  ...    2360.000000   10083.000000\n",
              "max    21612.00000  9.900000e+09  ...    6210.000000  871200.000000\n",
              "\n",
              "[8 rows x 21 columns]"
            ]
          },
          "metadata": {
            "tags": []
          },
          "execution_count": 8
        }
      ]
    },
    {
      "cell_type": "markdown",
      "metadata": {
        "id": "GF5bF9sCvefW"
      },
      "source": [
        "# Module 2: Data Wrangling"
      ]
    },
    {
      "cell_type": "markdown",
      "metadata": {
        "id": "CVtZKuQqvefX"
      },
      "source": [
        "### Question 2 \n",
        "Drop the columns <code>\"id\"</code>  and <code>\"Unnamed: 0\"</code> from axis 1 using the method <code>drop()</code>, then use the method <code>describe()</code> to obtain a statistical summary of the data. Take a screenshot and submit it, make sure the <code>inplace</code> parameter is set to <code>True</code>"
      ]
    },
    {
      "cell_type": "code",
      "metadata": {
        "jupyter": {
          "outputs_hidden": false
        },
        "id": "32YcnH1JvefX",
        "outputId": "f8cab2f1-536e-4e25-9c74-10250317c77e",
        "colab": {
          "base_uri": "https://localhost:8080/",
          "height": 304
        }
      },
      "source": [
        "df.drop(['id', 'Unnamed: 0'], axis = 1, inplace = True)\n",
        "df.describe()"
      ],
      "execution_count": 9,
      "outputs": [
        {
          "output_type": "execute_result",
          "data": {
            "text/html": [
              "<div>\n",
              "<style scoped>\n",
              "    .dataframe tbody tr th:only-of-type {\n",
              "        vertical-align: middle;\n",
              "    }\n",
              "\n",
              "    .dataframe tbody tr th {\n",
              "        vertical-align: top;\n",
              "    }\n",
              "\n",
              "    .dataframe thead th {\n",
              "        text-align: right;\n",
              "    }\n",
              "</style>\n",
              "<table border=\"1\" class=\"dataframe\">\n",
              "  <thead>\n",
              "    <tr style=\"text-align: right;\">\n",
              "      <th></th>\n",
              "      <th>price</th>\n",
              "      <th>bedrooms</th>\n",
              "      <th>bathrooms</th>\n",
              "      <th>sqft_living</th>\n",
              "      <th>sqft_lot</th>\n",
              "      <th>floors</th>\n",
              "      <th>waterfront</th>\n",
              "      <th>view</th>\n",
              "      <th>condition</th>\n",
              "      <th>grade</th>\n",
              "      <th>sqft_above</th>\n",
              "      <th>sqft_basement</th>\n",
              "      <th>yr_built</th>\n",
              "      <th>yr_renovated</th>\n",
              "      <th>zipcode</th>\n",
              "      <th>lat</th>\n",
              "      <th>long</th>\n",
              "      <th>sqft_living15</th>\n",
              "      <th>sqft_lot15</th>\n",
              "    </tr>\n",
              "  </thead>\n",
              "  <tbody>\n",
              "    <tr>\n",
              "      <th>count</th>\n",
              "      <td>2.161300e+04</td>\n",
              "      <td>21600.000000</td>\n",
              "      <td>21603.000000</td>\n",
              "      <td>21613.000000</td>\n",
              "      <td>2.161300e+04</td>\n",
              "      <td>21613.000000</td>\n",
              "      <td>21613.000000</td>\n",
              "      <td>21613.000000</td>\n",
              "      <td>21613.000000</td>\n",
              "      <td>21613.000000</td>\n",
              "      <td>21613.000000</td>\n",
              "      <td>21613.000000</td>\n",
              "      <td>21613.000000</td>\n",
              "      <td>21613.000000</td>\n",
              "      <td>21613.000000</td>\n",
              "      <td>21613.000000</td>\n",
              "      <td>21613.000000</td>\n",
              "      <td>21613.000000</td>\n",
              "      <td>21613.000000</td>\n",
              "    </tr>\n",
              "    <tr>\n",
              "      <th>mean</th>\n",
              "      <td>5.400881e+05</td>\n",
              "      <td>3.372870</td>\n",
              "      <td>2.115736</td>\n",
              "      <td>2079.899736</td>\n",
              "      <td>1.510697e+04</td>\n",
              "      <td>1.494309</td>\n",
              "      <td>0.007542</td>\n",
              "      <td>0.234303</td>\n",
              "      <td>3.409430</td>\n",
              "      <td>7.656873</td>\n",
              "      <td>1788.390691</td>\n",
              "      <td>291.509045</td>\n",
              "      <td>1971.005136</td>\n",
              "      <td>84.402258</td>\n",
              "      <td>98077.939805</td>\n",
              "      <td>47.560053</td>\n",
              "      <td>-122.213896</td>\n",
              "      <td>1986.552492</td>\n",
              "      <td>12768.455652</td>\n",
              "    </tr>\n",
              "    <tr>\n",
              "      <th>std</th>\n",
              "      <td>3.671272e+05</td>\n",
              "      <td>0.926657</td>\n",
              "      <td>0.768996</td>\n",
              "      <td>918.440897</td>\n",
              "      <td>4.142051e+04</td>\n",
              "      <td>0.539989</td>\n",
              "      <td>0.086517</td>\n",
              "      <td>0.766318</td>\n",
              "      <td>0.650743</td>\n",
              "      <td>1.175459</td>\n",
              "      <td>828.090978</td>\n",
              "      <td>442.575043</td>\n",
              "      <td>29.373411</td>\n",
              "      <td>401.679240</td>\n",
              "      <td>53.505026</td>\n",
              "      <td>0.138564</td>\n",
              "      <td>0.140828</td>\n",
              "      <td>685.391304</td>\n",
              "      <td>27304.179631</td>\n",
              "    </tr>\n",
              "    <tr>\n",
              "      <th>min</th>\n",
              "      <td>7.500000e+04</td>\n",
              "      <td>1.000000</td>\n",
              "      <td>0.500000</td>\n",
              "      <td>290.000000</td>\n",
              "      <td>5.200000e+02</td>\n",
              "      <td>1.000000</td>\n",
              "      <td>0.000000</td>\n",
              "      <td>0.000000</td>\n",
              "      <td>1.000000</td>\n",
              "      <td>1.000000</td>\n",
              "      <td>290.000000</td>\n",
              "      <td>0.000000</td>\n",
              "      <td>1900.000000</td>\n",
              "      <td>0.000000</td>\n",
              "      <td>98001.000000</td>\n",
              "      <td>47.155900</td>\n",
              "      <td>-122.519000</td>\n",
              "      <td>399.000000</td>\n",
              "      <td>651.000000</td>\n",
              "    </tr>\n",
              "    <tr>\n",
              "      <th>25%</th>\n",
              "      <td>3.219500e+05</td>\n",
              "      <td>3.000000</td>\n",
              "      <td>1.750000</td>\n",
              "      <td>1427.000000</td>\n",
              "      <td>5.040000e+03</td>\n",
              "      <td>1.000000</td>\n",
              "      <td>0.000000</td>\n",
              "      <td>0.000000</td>\n",
              "      <td>3.000000</td>\n",
              "      <td>7.000000</td>\n",
              "      <td>1190.000000</td>\n",
              "      <td>0.000000</td>\n",
              "      <td>1951.000000</td>\n",
              "      <td>0.000000</td>\n",
              "      <td>98033.000000</td>\n",
              "      <td>47.471000</td>\n",
              "      <td>-122.328000</td>\n",
              "      <td>1490.000000</td>\n",
              "      <td>5100.000000</td>\n",
              "    </tr>\n",
              "    <tr>\n",
              "      <th>50%</th>\n",
              "      <td>4.500000e+05</td>\n",
              "      <td>3.000000</td>\n",
              "      <td>2.250000</td>\n",
              "      <td>1910.000000</td>\n",
              "      <td>7.618000e+03</td>\n",
              "      <td>1.500000</td>\n",
              "      <td>0.000000</td>\n",
              "      <td>0.000000</td>\n",
              "      <td>3.000000</td>\n",
              "      <td>7.000000</td>\n",
              "      <td>1560.000000</td>\n",
              "      <td>0.000000</td>\n",
              "      <td>1975.000000</td>\n",
              "      <td>0.000000</td>\n",
              "      <td>98065.000000</td>\n",
              "      <td>47.571800</td>\n",
              "      <td>-122.230000</td>\n",
              "      <td>1840.000000</td>\n",
              "      <td>7620.000000</td>\n",
              "    </tr>\n",
              "    <tr>\n",
              "      <th>75%</th>\n",
              "      <td>6.450000e+05</td>\n",
              "      <td>4.000000</td>\n",
              "      <td>2.500000</td>\n",
              "      <td>2550.000000</td>\n",
              "      <td>1.068800e+04</td>\n",
              "      <td>2.000000</td>\n",
              "      <td>0.000000</td>\n",
              "      <td>0.000000</td>\n",
              "      <td>4.000000</td>\n",
              "      <td>8.000000</td>\n",
              "      <td>2210.000000</td>\n",
              "      <td>560.000000</td>\n",
              "      <td>1997.000000</td>\n",
              "      <td>0.000000</td>\n",
              "      <td>98118.000000</td>\n",
              "      <td>47.678000</td>\n",
              "      <td>-122.125000</td>\n",
              "      <td>2360.000000</td>\n",
              "      <td>10083.000000</td>\n",
              "    </tr>\n",
              "    <tr>\n",
              "      <th>max</th>\n",
              "      <td>7.700000e+06</td>\n",
              "      <td>33.000000</td>\n",
              "      <td>8.000000</td>\n",
              "      <td>13540.000000</td>\n",
              "      <td>1.651359e+06</td>\n",
              "      <td>3.500000</td>\n",
              "      <td>1.000000</td>\n",
              "      <td>4.000000</td>\n",
              "      <td>5.000000</td>\n",
              "      <td>13.000000</td>\n",
              "      <td>9410.000000</td>\n",
              "      <td>4820.000000</td>\n",
              "      <td>2015.000000</td>\n",
              "      <td>2015.000000</td>\n",
              "      <td>98199.000000</td>\n",
              "      <td>47.777600</td>\n",
              "      <td>-121.315000</td>\n",
              "      <td>6210.000000</td>\n",
              "      <td>871200.000000</td>\n",
              "    </tr>\n",
              "  </tbody>\n",
              "</table>\n",
              "</div>"
            ],
            "text/plain": [
              "              price      bedrooms  ...  sqft_living15     sqft_lot15\n",
              "count  2.161300e+04  21600.000000  ...   21613.000000   21613.000000\n",
              "mean   5.400881e+05      3.372870  ...    1986.552492   12768.455652\n",
              "std    3.671272e+05      0.926657  ...     685.391304   27304.179631\n",
              "min    7.500000e+04      1.000000  ...     399.000000     651.000000\n",
              "25%    3.219500e+05      3.000000  ...    1490.000000    5100.000000\n",
              "50%    4.500000e+05      3.000000  ...    1840.000000    7620.000000\n",
              "75%    6.450000e+05      4.000000  ...    2360.000000   10083.000000\n",
              "max    7.700000e+06     33.000000  ...    6210.000000  871200.000000\n",
              "\n",
              "[8 rows x 19 columns]"
            ]
          },
          "metadata": {
            "tags": []
          },
          "execution_count": 9
        }
      ]
    },
    {
      "cell_type": "markdown",
      "metadata": {
        "id": "BH6iXqApvefa"
      },
      "source": [
        "We can see we have missing values for the columns <code> bedrooms</code>  and <code> bathrooms </code>"
      ]
    },
    {
      "cell_type": "code",
      "metadata": {
        "jupyter": {
          "outputs_hidden": false
        },
        "id": "G3sQfXB0vefa",
        "outputId": "d1289dcf-0f97-42e5-d47e-967d3987cb27",
        "colab": {
          "base_uri": "https://localhost:8080/",
          "height": 50
        }
      },
      "source": [
        "print(\"number of NaN values for the column bedrooms :\", df['bedrooms'].isnull().sum())\n",
        "print(\"number of NaN values for the column bathrooms :\", df['bathrooms'].isnull().sum())\n"
      ],
      "execution_count": 10,
      "outputs": [
        {
          "output_type": "stream",
          "text": [
            "number of NaN values for the column bedrooms : 13\n",
            "number of NaN values for the column bathrooms : 10\n"
          ],
          "name": "stdout"
        }
      ]
    },
    {
      "cell_type": "markdown",
      "metadata": {
        "id": "YOnajf5wvefd"
      },
      "source": [
        "\n",
        "We can replace the missing values of the column <code>'bedrooms'</code> with the mean of the column  <code>'bedrooms' </code> using the method <code>replace()</code>. Don't forget to set the <code>inplace</code> parameter to <code>True</code>"
      ]
    },
    {
      "cell_type": "code",
      "metadata": {
        "id": "rl6QSIKhvefe"
      },
      "source": [
        "mean=df['bedrooms'].mean()\n",
        "df['bedrooms'].replace(np.nan,mean, inplace=True)"
      ],
      "execution_count": 11,
      "outputs": []
    },
    {
      "cell_type": "markdown",
      "metadata": {
        "id": "xMrQfJuovefg"
      },
      "source": [
        "\n",
        "We also replace the missing values of the column <code>'bathrooms'</code> with the mean of the column  <code>'bathrooms' </code> using the method <code>replace()</code>. Don't forget to set the <code> inplace </code>  parameter top <code> True </code>"
      ]
    },
    {
      "cell_type": "code",
      "metadata": {
        "id": "g8Ffd7Tyvefh"
      },
      "source": [
        "mean=df['bathrooms'].mean()\n",
        "df['bathrooms'].replace(np.nan,mean, inplace=True)"
      ],
      "execution_count": 12,
      "outputs": []
    },
    {
      "cell_type": "code",
      "metadata": {
        "jupyter": {
          "outputs_hidden": false
        },
        "id": "Ax2_NJ8Yvefk",
        "outputId": "e31bebd1-8c46-41b7-de5e-001410f9ad68",
        "colab": {
          "base_uri": "https://localhost:8080/",
          "height": 50
        }
      },
      "source": [
        "print(\"number of NaN values for the column bedrooms :\", df['bedrooms'].isnull().sum())\n",
        "print(\"number of NaN values for the column bathrooms :\", df['bathrooms'].isnull().sum())"
      ],
      "execution_count": 13,
      "outputs": [
        {
          "output_type": "stream",
          "text": [
            "number of NaN values for the column bedrooms : 0\n",
            "number of NaN values for the column bathrooms : 0\n"
          ],
          "name": "stdout"
        }
      ]
    },
    {
      "cell_type": "markdown",
      "metadata": {
        "id": "44Zoj1egvefn"
      },
      "source": [
        "# Module 3: Exploratory Data Analysis"
      ]
    },
    {
      "cell_type": "markdown",
      "metadata": {
        "id": "UhBWzkievefn"
      },
      "source": [
        "### Question 3\n",
        "Use the method <code>value_counts</code> to count the number of houses with unique floor values, use the method <code>.to_frame()</code> to convert it to a dataframe.\n"
      ]
    },
    {
      "cell_type": "code",
      "metadata": {
        "jupyter": {
          "outputs_hidden": false
        },
        "id": "wcCj3w6pvefo",
        "outputId": "af208fd5-b4d7-4e93-b7c6-f06ae8084090",
        "colab": {
          "base_uri": "https://localhost:8080/",
          "height": 225
        }
      },
      "source": [
        "df.floors.value_counts().to_frame()"
      ],
      "execution_count": 14,
      "outputs": [
        {
          "output_type": "execute_result",
          "data": {
            "text/html": [
              "<div>\n",
              "<style scoped>\n",
              "    .dataframe tbody tr th:only-of-type {\n",
              "        vertical-align: middle;\n",
              "    }\n",
              "\n",
              "    .dataframe tbody tr th {\n",
              "        vertical-align: top;\n",
              "    }\n",
              "\n",
              "    .dataframe thead th {\n",
              "        text-align: right;\n",
              "    }\n",
              "</style>\n",
              "<table border=\"1\" class=\"dataframe\">\n",
              "  <thead>\n",
              "    <tr style=\"text-align: right;\">\n",
              "      <th></th>\n",
              "      <th>floors</th>\n",
              "    </tr>\n",
              "  </thead>\n",
              "  <tbody>\n",
              "    <tr>\n",
              "      <th>1.0</th>\n",
              "      <td>10680</td>\n",
              "    </tr>\n",
              "    <tr>\n",
              "      <th>2.0</th>\n",
              "      <td>8241</td>\n",
              "    </tr>\n",
              "    <tr>\n",
              "      <th>1.5</th>\n",
              "      <td>1910</td>\n",
              "    </tr>\n",
              "    <tr>\n",
              "      <th>3.0</th>\n",
              "      <td>613</td>\n",
              "    </tr>\n",
              "    <tr>\n",
              "      <th>2.5</th>\n",
              "      <td>161</td>\n",
              "    </tr>\n",
              "    <tr>\n",
              "      <th>3.5</th>\n",
              "      <td>8</td>\n",
              "    </tr>\n",
              "  </tbody>\n",
              "</table>\n",
              "</div>"
            ],
            "text/plain": [
              "     floors\n",
              "1.0   10680\n",
              "2.0    8241\n",
              "1.5    1910\n",
              "3.0     613\n",
              "2.5     161\n",
              "3.5       8"
            ]
          },
          "metadata": {
            "tags": []
          },
          "execution_count": 14
        }
      ]
    },
    {
      "cell_type": "markdown",
      "metadata": {
        "id": "lKWZQeK5vefr"
      },
      "source": [
        "### Question 4\n",
        "Use the function <code>boxplot</code> in the seaborn library  to  determine whether houses with a waterfront view or without a waterfront view have more price outliers."
      ]
    },
    {
      "cell_type": "code",
      "metadata": {
        "jupyter": {
          "outputs_hidden": false
        },
        "id": "xa2UgwFLvefr",
        "outputId": "3b222cd7-6c81-487a-f474-eee07a999e31",
        "colab": {
          "base_uri": "https://localhost:8080/",
          "height": 307
        }
      },
      "source": [
        "sns.boxplot(x=df[\"waterfront\"], y=df[\"price\"], data=df)"
      ],
      "execution_count": 15,
      "outputs": [
        {
          "output_type": "execute_result",
          "data": {
            "text/plain": [
              "<matplotlib.axes._subplots.AxesSubplot at 0x7f545f9aa320>"
            ]
          },
          "metadata": {
            "tags": []
          },
          "execution_count": 15
        },
        {
          "output_type": "display_data",
          "data": {
            "image/png": "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\n",
            "text/plain": [
              "<Figure size 432x288 with 1 Axes>"
            ]
          },
          "metadata": {
            "tags": [],
            "needs_background": "light"
          }
        }
      ]
    },
    {
      "cell_type": "markdown",
      "metadata": {
        "id": "iPX6Rlo0vefu"
      },
      "source": [
        "### Question 5\n",
        "Use the function <code>regplot</code>  in the seaborn library  to  determine if the feature <code>sqft_above</code> is negatively or positively correlated with price."
      ]
    },
    {
      "cell_type": "code",
      "metadata": {
        "jupyter": {
          "outputs_hidden": false
        },
        "id": "gpvmmT32vefu",
        "outputId": "1f59c5cd-e0d0-4e2f-edc8-c76abc775ada",
        "colab": {
          "base_uri": "https://localhost:8080/",
          "height": 308
        }
      },
      "source": [
        "sns.regplot(x=df[\"sqft_above\"],y=df[\"price\"],data=df)\n",
        "plt.ylim(0,)"
      ],
      "execution_count": 16,
      "outputs": [
        {
          "output_type": "execute_result",
          "data": {
            "text/plain": [
              "(0.0, 8081250.0)"
            ]
          },
          "metadata": {
            "tags": []
          },
          "execution_count": 16
        },
        {
          "output_type": "display_data",
          "data": {
            "image/png": "iVBORw0KGgoAAAANSUhEUgAAAXgAAAESCAYAAAD38s6aAAAABHNCSVQICAgIfAhkiAAAAAlwSFlzAAALEgAACxIB0t1+/AAAADh0RVh0U29mdHdhcmUAbWF0cGxvdGxpYiB2ZXJzaW9uMy4yLjIsIGh0dHA6Ly9tYXRwbG90bGliLm9yZy+WH4yJAAAgAElEQVR4nO29fXgc93Xf+zkz+wosAIIEQEqkKJImJdryq6S6cqurMH5J5SS1723U2krapmkSqWlq12mdxmkd57lKe290myeJlce3EeukjevUjq06iW4aO7Ej07RbyY1ER7Zk0SJF6oWkSIAgXnaxrzNz7h8zs1gAu8CCxAKLxfnogbCYnZ357XD3O+d3zvmdI6qKYRiG0Xs4Gz0AwzAMozOYwBuGYfQoJvCGYRg9igm8YRhGj2ICbxiG0aOYwBuGYfQoXSfwIvK7IjIuIs+0uf/fE5HvisizIvJfOz0+wzCMzYJ0Wx68iNwFFIBPqerrV9j3EPA54O2qOiUiY6o6vh7jNAzD6Ha6zoJX1ePAlcZtIvIaEfmSiDwlIl8XkcPRUz8NfEJVp6LXmrgbhmFEdJ3At+Ao8AFVvQ34MPD/RttvAm4Skf8hIk+IyN0bNkLDMIwuI7HRA1gJEckBfwP4vIjEm9PR7wRwCDgC7AGOi8gbVHV6vcdpGIbRbXS9wBPOMqZV9c1NnjsHfFNVa8BZEXmeUPD/cj0HaBiG0Y10vYtGVWcJxfvvAkjIm6Kn/4jQekdERghdNmc2YpyGYRjdRtcJvIh8BngcuFlEzonITwI/BvykiDwNPAu8N9r9z4BJEfku8FXg51V1ciPGbRiG0W10XZqkYRiGsTZ01IIXkZ+LFiA9IyKfEZFMJ89nGIZhzNMxC15EdgPfAF6nqiUR+Rzwp6r6n1u9ZmRkRPft29eR8RiGYfQiTz311GVVHW32XKezaBJAVkRqQB9wYbmd9+3bx5NPPtnhIRmGYfQOIvJSq+c65qJR1fPArwEvA68CM6r65506n2EYhrGQjgm8iAwTZrvsB64H+kXk7zfZ7z4ReVJEnpyYmOjUcAzDMLYcnQyyvhM4q6oT0UKkLxCuSF2Aqh5V1dtV9fbR0aZuJMMwDOMq6KTAvwzcISJ9EtYYeAfwXAfPZxiGYTTQSR/8N4FHgBPAd6JzHe3U+QzDMIyFdDSLRlV/GfjlTp7DMAzDaM5mKDZmGIbRtRw7Oc7Dx8/wylSRG4b7uP+uAxw5PLbRwwK6sBaNYRjGZuHYyXE+9uizjOfLbMsmGc+X+dijz3LsZHf0HjKBNwzDuEoePn6GpCv0pRKIhL+TrvDw8e4oamsCbxiGcZW8MlUkm3QXbMsmXc5NFTdoRAsxgTcMw7hKbhjuo1TzF2wr1Xz2DPdt0IgWYgJvGIZxldx/1wFqvlKseqiGv2u+cv9dBzZ6aIAJvGEYxlVz5PAYD7znFsYGMsyUaowNZHjgPbd0TRaNpUkahmFcA0cOj3WNoC/GLHjDMIwexQTeMAyjRzGBNwzD6FFM4A3DMHoUE3jDMIwexQTeMAyjRzGBNwzD6FFM4A3DMHoUE3jDMIwexVayGoaxaenmZhvdQMcseBG5WUT+quFnVkQ+1KnzGYaxtej2ZhvdQCebbn9PVd+sqm8GbgOKwB926nyGYWwtur3ZRjewXj74dwAvqOpL63Q+wzB6nG5vttENrJfAvx/4zDqdyzCMLUC3N9voBjou8CKSAt4DfL7F8/eJyJMi8uTExESnh2MYRo/Q7c02FnPs5Dj3Hn2COx98jHuPPrEusYL1sODfDZxQ1UvNnlTVo6p6u6rePjo6ug7DMQyjF+j2ZhuNbFRAeD3SJO/F3DOGYXSAbm620UhjQBigL5WgWPV4+PiZjo6/oxa8iPQD7wK+0MnzGIZhdDMbFRDuqMCr6pyq7lDVmU6exzAMo5vZqICwlSowDMPoMBsVEDaBNwzD6DAbFRC2WjSGYRjrwEYEhM2CNwzD6FFM4A3DMHoUE3jDMIwexQTeMAyjRzGBNwzD6FFM4A3DMHoUE3jDMIwexQTeMAyjRzGBNwzD6FFM4A3DMHoUE3jDMIwexQTeMAyjRzGBNwzD6FFM4A3DMHoUE3jDMIwepdM9WbeJyCMiclJEnhORt3XyfIZhGMY8nW748XHgS6p6j4ikgM42IDQMwzDqdEzgRWQIuAv4RwCqWgWqnTqfYRiGsZBOumj2AxPAfxKRb4nIJ0Wkf/FOInKfiDwpIk9OTEx0cDiGYRhbi04KfAK4FfgPqvoWYA74yOKdVPWoqt6uqrePjo52cDiGYRhbi04K/DngnKp+M/r7EULBNwzDMNaBjgm8ql4EXhGRm6NN7wC+26nzGYZhGAvpdBbNB4DfjzJozgA/0eHzGYZhGBEdFXhV/Svg9k6ewzAMw2iOrWQ1DMPoUUzgDcMwehQTeMMwjB6l00FWwzC6gGMnx3n4+BlemSpyw3Af9991gCOHxzZ6WEaHMQveMHqcYyfH+dijzzKeL7Mtm2Q8X+Zjjz7LsZPjGz00o8OYwBtGj/Pw8TMkXaEvlUAk/J10hYePn9nooRkdxgTeMHqcV6aKZJPugm3ZpMu5qeIGjchYL0zgDaPHuWG4j1LNX7CtVPPZM2zVu3sdE3jD6HHuv+sANV8pVj1Uw981X7n/rgMbPTSjw1gWjWH0OEcOj/EAoS/+3FSRPdeYRWMZOZsHE3jDWCWbUeCOHB5bkzHGGTlJVxZk5DwQncPoLsxFYxirYKunHFpGzubCBN4wVsFWFzjLyNlcmMAbxirY6gJnGTmbCxN4w1gFW13gLCNnc2ECbxiroFsF7tjJce49+gR3PvgY9x59omMxgSOHx3jgPbcwNpBhplRjbCDDA++5xQKsXYqo6kaPoc7tt9+uTz755EYPwzCWJc6iWYuUw7UaT5zZkk26lGo+NV9NeLcIIvKUqjZtrGRpkoaxStYq5XCtaAz8AvSlEhSrHg8fP9NV4zTWn44KvIi8COQBH/Ba3WUMw7h6Xpkqsi2bXLBtKwV+jdashwX//ap6eR3OYxhbkhuG+xjPl+sWPGytwK/RGguyGsYmp1sDv8bG02mBV+DPReQpEbmv2Q4icp+IPCkiT05MTHR4OIbRe1hmi9GKjmbRiMhuVT0vImPAl4EPqOrxVvtbFo1hGMbqWC6LpqMWvKqej36PA38IvLWT5zMMwzDm6ZjAi0i/iAzEj4EfAJ7p1PkMwzCMhXQyi2Yn8IciEp/nv6rqlzp4PsMwDKOBjgm8qp4B3tSp4xuGYRjLYytZDaMFm7Gxh2E0YnnwhtGErd7Yw+gNTOANowlbvbGH0RuYwBtGE7Z6Yw+jNzCBN4wmbPXGHkZvYEFWw2jC/Xcd4GOPPkux6i2osd5L9V0ag8i5lIuIkK94FlDuIcyCN4wm9Hp9l8YgsitwemKOU+MFXMECyj2EWfCG0YJua+yxljQGkc9MFHBFQOByocqB0Zw1DOkRzII3jC1IYxC56geIgEj4GCyg3CuYwBvGFqQxiJxyHVRBNXwMFlDuFdoWeBG5UUTeGT3OxoXEDMPYfDQ2CRnJpfBV8QNlJJeyhiE9RFsCLyI/DTwCPBxt2gP8UacGZRhGZ2kMIgcKB0f7OTSWI1B6LqC8lWk3yPqzhLXcvwmgqqeiJh6GYWxSejmIbIS0K/AVVa1GpX8RkQRhOz7DMNYAK2xmdIJ2ffBfE5F/DWRF5F3A54H/r3PDMoytgxU2MzpFuwL/EWAC+A5wP/CnwEc7NSjD2EpYYTOjU7TroskCv6uq/xFARNxomyXKGsY18spUkW3Z5IJtlodurAXtWvB/QSjoMVngK2s/HMPYelhhM6NTtCvwGVUtxH9Ej9v69ImIKyLfEpE/uZoBGkav05iTrqpL8tCPnRzn3qNPcOeDj3Hv0SfMN2+0TbsCPycit8Z/iMhtQKnN1/5z4LnVDswwtgrLFTazAKxxLbTrg/8Q8HkRuQAIsAt430ovEpE9wA8B/w74F1c7SMPodVrlpDcGYAH6UgkrBGa0TVsCr6p/KSKHgZujTd9T1VobL/1N4F8BLcsaiMh9wH0Ae/fubWc4hrFlsACscS0sK/Ai8nZVfUxE/s6ip24SEVT1C8u89oeBcVV9SkSOtNpPVY8CRwFuv/12WzxlGA3cMNzHeL6MHygT+QpVP8AVYf9I/0YPzdgErOSD/77o999u8vPDK7z2bwLvEZEXgc8CbxeRT1/9UA1j63H/XQeYLdU4N1Wi5gcI4AXKRKFifnhjRZa14FX1l0XEAb6oqp9bzYFV9ReBXwSILPgPq+rfv9qBGka7dGLZ/0aVEjhyeIwd/SnyFQ8/UFKuw0guTSJaCGV+eGM5VsyiUdWA0I9uGF1PJ7JONjqTpVD1OTia4/CuQQ6M5hjMJs0Pb7RFu2mSXxGRD4vIDSKyPf5p9ySqekxVV3LpGJuUbsrT7sSy/40uJWALoYyrpV2Bfx/wT4GvAU82/BhbnI22bhfT2Iou5lqt3U4cczWstBDKMFrRbh786wgF/k7CMsFfB367U4MyNg+dyNNu9HfnUi4iQr7iteX7jrNO4vHA1Vu78Tgm8hUu5yvsGsowkEle0zGbHX8lv/6Rw2M8QHitz00V2WPlhI02aVfgfw+YBR6K/v7RaNvf68SgjM1DY552vlxjIl+h4vmcmypx7OT4qkUonhEkXcEVOD0xB8DubZn67OABaHnc++86wMcefZZi1SObdCnV/KuydhvHsWswzfnpMuemSuzepiRc55ot6MbjN858Wr03a85hXA3tCvzrVfV1DX9/VUS+24kBGZuLxjztC9NlRMARQQQ+9uiz3HNumsfPXGk7+6RxRnBmooArAgKXC1UOjOZWnB2slbW7eGYCwqV8mYuzFW7dO3zNFrStUDXWg3YF/oSI3KGqTwCIyF/HfPAG8xbz+GwZUFBBgZ0DGSqezyeOvcCe4WxbViosnBHEi3qQ8DG05/teC2t38QrSwWySgUyCmVKNz9x3xzUdu9nxwVaoGmtPu0HW24D/KSIvRguXHgf+moh8R0S+3bHRGV1PXChLCYMzCVe4fijLYDZJvuzhBcGqsk8aM0ZSroMqqIaPYf2yRzqduWKZMcZ60K7A3w3sJ1zZ+n3R47sJV7P+7c4MzdgsHDk8xq17h9m7va+epw1Q8QLS7sKP2EpWamPGyEguha+KHygjudS6Zo90OnPFMmOM9aDdYmMvdXogxuZicQbI2w5s55ET5xcEN11HGOpb6IZotFJbZZE0+tAPjvYjIhQqHmMDmXVdQdrpzJW+pMPZyfBmd2Ckn1/6ocPmfzfWFFHtnvpet99+uz75pLn2N4LVLMVvzABpzFS559bdPH7mSl0QY9FfvN8D77kFoOkx4jrovUyr67cV3rux9ojIU6p6e7Pn2g2yGj1Ms5S9Dz/yNKO5dNP881YZII+fubIkAPnGPduaWsH3Hn1iy2aRWAaNsV6YwG9y1qII1mLB8XxlulijUPY4OJZbkv2ymgyQVhkt65lFslGFwlrR6ffebe+3m9hq16bdIKvRhaxVmYDFS/EvFyo4Ar5q0+yXtcgA6XQWSVwf57Zf+XPu//RTvDhZ6IpSCtDZ995tpSO6ia14bUzgNzFrVQRrseDEOeephgyYRgtzLTJAOplF0vhFLtcCAlUmCzUKFW/dC4U1o5PvfaMLo3UzW/HamItmE7PaqX6r6eni5f2uI3i+MjqQrr+20cJsJ8NkpalwJ7NUGr/I8WIpBSbyFQYyK5fajcf+/KVZar6SSjgcGhtY1fiWe/+dfO+2gKo1W/HamMB3Eav1D66msNZKtU8aBWff9j4m56q4jqCqTeu5LLdatN06K52qr9L4RU65Dp6viDM/M1nOHRKPver5zJa9cP+qz4uThRVX4S4+xnLvv1PvfS2LrfUaW/HamMB3CastPgWrK6y1UubGYsGJbzZXY2GuRZbItQTDGr/II7k0F2ZKEIT+yFOX8tSCgKQjTYuhxWOfLHg4CI4jBKrMljx2DSWavofFY52aqyx5/xP5Mh/87LcYzCY7Gtxbq2JrvchWvDYm8F1CO6LYTPQeeM8tS4QY4N6jTyzYb7XT02uxMONzxdUlq34oqDOlWluvv5qbXSONX+SBTIIdXorJuSq1QEklhD3bstQCbXrMeOz1OjiARLVwml2vZmN9cXKOPduy9X1mSzUm56oEquzd3rfq97MarLRwa7bitTGB7xJWEuCWoveeWxbknrfabyCdoFTz12V6esNwHy9OFpgs1BAB1xFqgZIve22VEL7WGcDiL/L+kRzDfVWqfrDg/Tc7Zmz91107Ml8Lp9n1ajbWpONwKV9hMJsCwqwkgEzCrQf3Opn3bqWFW7PVrk3HBF5EMsBxIB2d5xFV/eVOnW+zs5J/sF3Ra7WfqtYzNzo5PT12cpxzU0VenanUtyWcsHzwcF9yWVF76CvP88lvnGW27OEIjPSn2DkUWsKtrOflApmN57nzwcfamsHE1v9AJhFa3YGCwmB/kpqvvO3A9gWzo+cvzXLdUHbBMXYOpjk3Xa5f64oXILAgaN3rwT2jO+hkmmQFeLuqvgl4M3C3iFx7ndUeZaXUuXbbxrXab67q88B7bmFsIMNMqcbYQGbNl8YfOznOzz/yNK/OlBds9wJlOJtkJJduKWoPfeV5Pv7YaUo1HwEChfFClUszJWDpbGO1Oc3t5p7H1TH3j+QYyiTIJl2G+pLs25Hjnlt388iJ8wvOWaj4dQs9JuE63DSWq1/rvpTLyECq3g2q1bnXi27qoWt0lo5Z8BoWuSlEfyajn+4pfNNlrOQfbDcDYLn92p2erhTgbPX8w8fPkC97uFFgUkPjFxGYq/rLitonv3EWRyDhOASBjx99UsYLVRxHSCXcBbON5WY08fON42sWYJst1Ug6wp0PPrbgfTRep8b3+uw3ZuhPuwxlM/Vzbu9PcmWuRn86sWBm1Fg4LL4ZdUNw71rjG8bmoqPFxkTEBZ4CDgKfUNVfaLLPfcB9AHv37r3tpZescGUz2i1Qda2FrBpf7/kBl2Yr1IKAQ6M5PvLu1wKti4R99I+f4eJMiYTrEARQ84P6Hd11YPe2vqbjffj4GR4/M4lAtIJ24ZjSCYefPfIaPvjOm+rbbv+3X6ZY8cLAqeswOpAml05wcbZcX8CyePw/+Ibr6sXQcukEE4UKQ9lk04JpcT/Yybkqg9E+Jy/mEWD3cOiSidsTCsLBsRyFikd/ix6y15KVdLU0uxE/fPzMEgOgWA0rda5FIxNj/Vmu2Ni6VJMUkW3AHwIfUNVnWu1n1SSXp12RWO1+zQSgsQWfquI4wthAhv6U2zRYOTYQWrXfenkKJWzb5wdKLco9H8gkeOj9b2l5Mzp7eY6g4aMoAmj4e/9I/wIBOnZynPs//RSBapSrHwZCd+SSzFV8RgfSLccf32DuPfrEEqG7XChzZa7GnuEs2aTL6YkCnq/sGc4ykElyZqJQz64JorE1Hjt24XRDlchWN/q5So3rhrJIlCEE4XuYKdX4+i+8fV3HaKwNG15NUlWnReSrhE1CWgq8sTztulja2a/VVL1Y9dg1mOHs5bl6f1UF/EBJusKZy3McGsstOFYcC/iV976en3/kaaaKNVRCtXYdYVtfkl+7500tc877UglG+lOMF6rzT0bunbFcekms4eHjZxjuSzI5V0WDUGgDlCtzNXJpl2zSbTn+OMjbLGtppljDD7Qu+n6gODK/AjbOqS97ASlXFrQnTLjCJ79xltGBdFdUiWzlwqr5um7ZVMbG07Egq4iMRpY7IpIF3gWc7NT5jNXRqi5H1Qso1XyqfkBs5MVpgnHwtlWw8sjhMf79PW/i0FgOEUFEODjaz6/d8yaAJYG9xoDwzqEsY7lU/ZgisHMgzdhgZokAvTJVZCSX5vqhLAlX8DV00wykXW7aObjs+OMbRbOga8UPSCfmvxJxLZ54BexgNsmO/lRoubOwPWEcyG4nEL4etAq2pxKOdZLaQnTSgr8O+L3ID+8An1PVP+ng+YxV8MpUEVeoux1SrsNILkXKFWq+hm6IQMOMFpSRXCi0+3f0UawFLQOGzWYPrWYLuZS7wJrcOZTFcYSp4rybpJkAxYHkwWyy3h4wdhPFwVQByrWg/ppA4eTFPH0pN3TxNAm6JhyHgcz8V2Ikl+b8dIlEQ8mGVMLl8M6BJW6qUs2nf9H7ibdvhHXcKtge19TZSot9tjLW0WmLcvdvfI3TE3O4IvXFPL4qB0f7+ci7X8uDXzrJ8+MFkq6wcyBNxQuYKtYYyCTIJByuzNWo+AH9KZefunP/ggDoYpr5u4tVj0rNZ6JQxQ+UdMIh6QqlWuj+EBFSCYeR/tSSoCUs3w3qoa88z2999TS1RdFaV2BsME3SdetdpRqFrlkHqplSjdFcmkLFW7BSuFVHq2v1wa9VvfKt3jVqK9V93/Aga7uYwK8f7/7N45waL+A6DQIfKIfGcnzxQ3cB81+SU5dmyVd8tvcnSbkO56fDPPfd2zIkXGdF4YgXGTUG9mZLVc5NlxgbSDNTrFHxAnyF4b4Eu7f11cVVoO4CWdzyr1mJhoePn+HEy1OIwEA6WqwUBUTTrsOhnQPLZo1cayD7WrJl1lqUNyJzpxvYajc3E3hjCXc++BiuwOVCdYGLJlCWZFM0WuBnJgp40erOhCscGM01FcxGC2q2VKM/7TKSy9SfPzWeB4VDOweAha6iA6NhEPd7F8NyvQlX6qmQbpSxslicG7/UL03OLQiuplwHJHx8eNfgkqyRbrH2Ws10LIVxdWy167jhWTTG1dFJ4Yl9tLGYwsJ0x0YaM06qfoDrSP0xzAcS6xb/eJ582WO4L8w88fyA8XyYIbOjP123qPZsmz9X1Q9wZP6Ys6UaVX8+E8eL0h6vG2q+GrYxaJxOuHiBIgo+4YIrmA+aNvrFu2nhz1asV94JttJ1DILlDXQT+C5lrYRnpSYflwvl0EXiByQch/e+6folx2gM2KVcp27BNwpmf8qtj7dY8eqLjMbzFbJJl4G0y1zFp+aVqPph+uGl2QoiwkAmdP3EFjyEBbpih44g9VTIS7MV3rJ3eMkYG4PGFS+opziKhFk2KOwaTNeDtnFNmRMvTyHArqHMqguBrfUNeCvWK+8EvXodVZWKF0Q/PpVaUF9n0goT+C5lrWqqN94kXpwscP+nnyIXpRPetneIP33mEn6gZBIuSVf4xLEX+NQTLy3oYNSYcTKSS9V98Lty84KZch1qvs9kwaPYkL0ihE28q35AJiH0pTMMRatMz02VeHEyFGbXCRdGDfQn6h9kgbAee6D1RUWeNk/pG0gnODVeCG8EqqF7RsFFORilbRYq4QylMZgaaJgpdGG6zPXbaKvjU7NrezU34MU3iHhc3VDSYDPTC3XfVcPvTMULqNRCQa/5iqoyXaxyarzAqUsFnh/PL3scE/h1ZDUWX+M0M66rXvF8zk2V2iq5CwtvEvlyjclCDUUp1wLG82VOvDzF9v4kI7kMs6Va2BgDKFY8zl4u8NP/5UkCDQVTFDJJl760y6GxHKrKXNUn5TokHeV7l/IEGlaObCTQeZEu1pSxaDyzpVpYpybaJ+kIuYTDtmyyXqCrP+2Scl0uFyp119CB7f0LgpnxtcyXa+ENYJFBowofefdrF1yve48+Ub8ucVlgGhY0tWPtXesNuNkN4pET5+ulEq41MNotcYWNYDPWfa/GVnlkoVe9AFVlslDh+UsFTo3nQ0G/VGBiUXG75TCBXydWa/HF08zGJfdOlNLYrqXYeJOYyFfCYyD1HG7PD7g4U+FylKroiJBwhbIXUIm2xShQrvn0pV3e/fpdPH7mCpfn8oznKwz3zfs7/SY+wSBykahqffHN5UKFpOMgTpy9E2a3DPen+dLP3VG/XglX2D/SX7fCPvLu1za9lq/OVpbUsAEIgI/+4be5YUeuLnbPXpjB8wNqgeIAtSD001cIOz4NZBL80g+9ru1rG5NNupy6NLuk2Uqzf6dWN4jHz1y55kBgN8UVNopurvteq1vm4YK8Si3ADwIm8hVOjRd4/lI++l3gyly16TEcgX07+jm0M8fRZc5lAr8OHDs5zgc/+y3mqh6ZhMvoQJqBTHJZiy+eZo7PlgnVceGy+HYsxUZfZNUPXR5x4PLUpXxdEF0nXNwUuzYCBZpkVylh8PMTx15gz3CWfKlGxVcuzlYW7LOYhCOkUy4zZY+TF/MknPAmAiA+JJz5LJrGGUorK6zRAodQHF0Bv8m5Ac7NVLgclSEYny1T9RXXgaTr4PlBvQaORP9rJ6+smZ/3cqFCvuIvKWHcTFg7GQhcC/deL9ANsxgvFvPIKq94fmhYzZZDy/xSPrLQCy07niUcYd9IPzftzHFobICbduY4MNJPOhkWtjOB30COnRznw488Tb7soUCx5vPKlSI3bO8jl04s2zLvAeD+Tz+FAklXGMllGMwmUdW2hKDRF+kAlUjRkw5UGnwZGoQWQaDNLfD6fsQ3COXFyeKy+8akXWEwm2A8X2Uw4zJb8ih7C2cGtQDUC7NohIUzlGZfyGbi2OyGtODpAFyR+vv2A0hE7xnC8964o6/ljbcdf/lUscb2/mRbwtrJQOBWyiJpxUbMYvxAqXh+JOShZV71fS5Ml+pifmo8FPN81NB9MUlXeM1ojkMNYr5vRz+phIPrhIv/Uq4T/o4eL4cJfIf51S8+x3Rx/s6sGlqar06X2LO9b9kv9JHDY9y6d/iqhaDRCn55sogQlu11XYdaEApdwgnz2RvionWxb4WwcnpWTKAwV/EZSLtUPW3qRoGosJfrsGsog+ssnKEsFtfFJQ6ABeNvRpx+ufD0Gi6CIpzFxA05Fothu/7ymVKNHf3pBWdoJaydDAT2ahbJauj0LCYIdIFVXvECyjWfV6aKka88FPPT4wWK1eZzy3TC4TWj/RzaOcBNO0Mxv3F7HwnXIenOC3g6Gf5OrCDmzTCB7zBnJ4s4Ao7r1FOalNCaXu4LHYvasxdmyFc8RCGbchnIJJY0v1iO2Aq+7Vf+nEIltC78SNzdKI0wzoV/9vwMyHJHC0m4EvYrZXl3RsqBnUMZilUvbMO3wsGv35ZhIDM/Qzl2cpxf/eJznJookHQcBjMJnnrpSt3NlHKF64YyVJoBvwcAACAASURBVLxgRbdKs+cDwi9ZEBUri1kshu36y5stsGklrJ0MBPZCFsm1spazmGbpieWaz4uTc5yK3CvPX8rzwnih7npcTF/K5eBYjkNjuUjQc9wwHIu5kE6EheDSkag7ThtfxDYwgV8nwsVBDl4QoJHV2GrpdGwx1nyfUtWvW9TFqo8XKD97ZO+qc+ELFZ9Aw5ovcd2ZIFB8X3n2wkzdYu9POhwYHeD5i7NUfW0qjO0ufq4GkEsnuDATBotlGRkWoW5BN+bVj+fLuBI27V5QTpjQXfTSlVJ7g1l8PuKZSEBA6EaKC4otFsN2xWK1wtqpQOBmzCJZa652FtMsPbFY9TkzUViQzXLm8hzVFmLen3br7pX49+7h7AKrvNHF0ljCYzXERmBydN8bWu1jAt9hDoz0h/nZqjgOJMXBD5TrhjI8fPwMH/3jZ5YEgGKLcbLg4ThCQhwCCZfs7xrK8KffebXedaid4NHDx8+wvT8ZpUmCOBB4Sv3jGemuIzBXDXjlyhy7hjK83EI8Aw3HsriYVzPOTRWJy2Est7dAXWBnSjWKVZ+K5xMEzbs8tYvrSJiLv8illIrKDLuOwweOvGbZ1MR2xaKbhHW1N49uCEiuJe3ebBenJ+ZLNV6YmLfKT10qcPby3JLPT8xgJsFNOwcW+MyvG8qQiizyWMzTiatzsbSi0W2IBs0d+lgtmo4TN6LOlz28IFwtmk6GPrbGdnGzpRo7+lMUqj4T+Qq7BtNcmClHAhWWq/VVuX4ow7npEvt29LcswLX4SxoX+ypUPC7OlFtOI90ogyTQ+YVHrehLOgz1Jbk4U1neTRNVhqy0OGfMYCbBUDZJf9Qmb6pYw3VCK/1aPqIpV3BEFrzndMLhuqEMF2fKKHDr3uElxcIaryGEgd+q55Mve1S8MCd/cRvBzUqvFudaXGztJ+/cxx2vGaFSCwV9plgLLfKG1MQXF3UWa2S4L1l3r9w0For6zsFM3RpPu27dX75WLpZWNLoD/+yBHytWJ17qb7afCfw6sPiDNjVXodbQOShfrnFuqkTCFQ6O5uqt4hKO1NvfBYHWm1s0FumCsIZM0hEuz1UpVMKVpUEQulcSUTrgUDZJJulyYbpMLXITLceN27NL3B9x1UkIbwBv3bedZ85Pk6+0SlAMcYAVYqD8i3ce4oPvvKn+wb04U8aLUjdry9xoVooDxLgNs4DBtEOxFv7RWBFzuXK/3z43zSeOvYAXBKTd8OaWdN16oPXUeJ6qF5B0hZt2Dm4qC7gXi3M1pidWPJ+puSrfi1MSIzF/5UqxpZiP5tIc2pnjpp05Do7luGnnAGMDmXk/+Rq4WK6Fxgqtywm8uWjWgcXT5fgfJ2YiXwndEIEiIuwcyHB+uhTmpSsEUfu7gUySiUJ1QZEuIGoIPUscIW20vL0AVMO6MAknDKquJO4CXJgpL9m++HWnxvMLyhK0Yrk9hNAyevzMFT7IvL87bo/nyMoSnmzDXeQr0XRWyVfDzk07BzILGoYs13IPYM9wdoEITuTLfOLYC2zvTzJTrIFAqQZnLxdapuR1oytks6dVxumJoc88YLJQ4bmLswuyWc5NtY7V7BrM1MX8UGSZj+YydWs8FvPkGrpYrpVmbsNmmMBvAIv/ceJFSHEmRyg64QKiwWyCatQDdP9IjuG+aj3lL6ZU80MBc5b6mgESjoMSWsIJWTkN0nXCFa+JFscLUWaKtbbTJWGpte1I+J5nyzVOvDzFsZPjC7o1Qbh4yAtCgW42E3Ck/ZTNlOuwf6Sf5y7mOTiaW2B5xS339rZouaewRARjt9tsKYyVxDOtfNlj11CiaS59N64w3UxplXF6YpxvfnG2zHOvztbrspy6VODVJsZJzO5t2QVW+U07B9iRS9VdLLGYux12sVwrjTGG5TCB3wAWB4BcCcvhjuTmc6irUX/QTNJdUPgrFonFwaOEhD7zZlpX9QMcJ6ypvmc4i+crL18pNrWLHUIrP9DQPbKYOGc86TpRjZpwuX99BewKxCIf16yJXVBxCYbYTVKsegxkEvVgbuD79dWoYe36NBXPZ7bsUaz6CKE7arkJRanmL9tab6WWe4tFsOKF7prGEsoSlTxuZgF36wrTbk2rrKcn1gIqvs+FqRLfXSTm4/nmdVkEuGF7H4fGIss8EvPt/al5n/kGuliulcaAPuK01PGO+eBF5AbgU8BOwu/xUVX9+HKv2Uw++Gudajf65XPpBBOFSj3oOjlXYTxfZTSXYiSXrmeWZJMu4/kKfhCQcuPCX6H4f/iRp7lcaF63IuaG4SwiQtIVZktVLkdZNemEw3BfMqyhDsxEtdjjj30ssnHOuBs11FZ0QT78cF+CiULz5dYQrmqtRTehlBsJIkKAsi2bJF/xUIXRXIorczXKnh+W8E067BnuW3CNYhHqSzpMl2pMFKr1uMNypBMOP/j6nXzj9OSCwPdAJsE/uOPGFX3wcXvBgUyivnJ1tuThRbV84ljJrqHMEh92s85Wi5uPbBQb3f0pFvOqH1CuhguGvnthoZhPLlOX5cYd8VL+ect8W19qgc+8m1wsa8lGNfzwgH+pqidEZAB4SkS+rKrf7eA514XGPPWZYo1XZ0qceHmq7ayKVpka8RcsXvmZL3tMzlVxRMLqcsxnhVT9gD7mFzy1KkrUiAYBv/J/vJGHj59hplgllXDqy6pnSjV+5vtewxv3bONnfv+pekQyEVWChPnyBj5KOumiSvTlEaaL3rLiDvOlElKO1NvoxRbtdNSezw9C11QQLTH1AyVf8XlhokDCEYoVf0Ev2M89dS7K7W/PUFFVHvveRP34IlKvP/PGPdt4455tTVsBPnLifN3XXvZ8vKJy6w1DnHhlhlpUz8Z1wtnIQCbZ1ALuZlfIehfnil0s5ZrPS5NFnrkwG9VlCcV8ukVdFtcR9sdivjMU85t3DTCYTW4qF8t60TGBV9VXgVejx3kReQ7YDWx6gX/4+Jmo9nktEqkwt/0Tx17gjXu2LftFaeWHvefW3UAoNMVquCgp6Tj1+imxfLlOaIVIoBQq4fR+aq6yonsk4cDEXK0+tp9/5Ol6U4xAoVQLeOixU3zw7YfYkUvX2/kVq/4SqzggFKakI6RSDrNlPwxgQlspkdVgfiVq1Q8ozfk4IjhOOCtIRCma8YIwCNMlq76ScoXX7hqgVPN55MR5cimXFyYKRMlFyyLR+GZKHilXuHnXYP252FXymfvuWPLvFxc3G8pm6m0HLxfKnHhlhuG+JPmyR6nmE2iYPrp/JNfUAt5IV8hazTiv5vXVyDIvVT3OXp7jmfOzPB+L+TJ1WSA0IBJOWOX0H96xjx+5bQ+5TGJ+GX9ic7pY1ot18cGLyD7gLcA3mzx3H3AfwN69e9djONfMK1NFZoq1eglfCNPwvEBX9KfGfljPV87OzNUDrA89dorRqAF1HNisRM81Ey6JrNtzU0XG85UV0wW9APwgqH9Rr8xVlywe8gL4jb84xe7BNIlUgpFcmpeutM6kqAXKVNHDdcBXIenIqr5s1YYBBKp1F5Hf4GpZ/J6qvnL28hz9KZfphrZ+7RL/ey3Oulkua6RZlslMFA9IJ1zyeAsWVL0yVaxn3jR+FjZqIdS1BndX8/o4PbFY9Tk9nq+LebwCdK6NuiwnXpqi5gcMZZNRfEYo1zyefGmKf/m3bl6DK7J16LjAi0gO+G/Ah1R1dvHzqnoUwoqXt99+e/ck5S/DDcN9vDpTWuDTi90VzUSi0fqZyFcYzLhMl8LaLI0W+qszSwNGzS6IH2i9rs1MKcxkaWe1p+sIH3v0WS7OlFruqwqXClWGsspsi2ny0vGEI9UgdN20m5u+mPh1rTN3Qipe0FIoVjp2xQtfp4Slj+NsneVcJc1cK3GLwwszpbDGjkYzE19xJUyVvP/TTzGQSSwIkm9EnfJrDe62ev1vf+0F3npgO3MVj+cvFXjm/AwnL+Y5dSnP6YkC5RYR72wyqsuyM8dNYzled/0QB8f66/103/nrxxjJpRcYC32p1pVXjdZ0VOBFJEko7r+vql/o5LnWk/vvOsCJl6fwg/DLrBr2Cx3IJJeIxGLr53K+wuVCDdcRHHc+kyRmJXEs1RYK2+wy09slqFL1/GWtXidqeTeaSzO5QtB2MbHr5mpp56bQrOzAao7d+NKXrhRJu8Jwf2rZAm5vO7B9ySKnhOMQBAGOhKsWa1GLQSCMIUQxgWLF2/B0yOXy3B/6yvN88htnmav69bjG4jjSK1NFHJQXpktUvICEK2SSLq9Ol/iR//A/eWFipbosYX754V0DvPb6QQ6M5OhLuy1dLHu393dtrGKz0TGBl/Bf7XeA51T11zt1no3gyOExfvbIa6IvfZxVEWahTBer3PngY3U/5WLrZ9dQhhcni3iBknCbLMO/WvO3DTxlWX8nhDerpCNhW7AOjuVqWevhVHxlqlhrWcDt2MlxPvXES2FRsgCKQUCtUOWH37CLR799kTBqQL3scMKRaN1C2K0qXrG82GJezwVPrYK7GgR8/LHTOBLGaEo1n48/dhpV5f4jB5kt1fjuhVnKVb+ewaKA7ykVL/wcPffqfE/QwUyivpT/5l0DvOH6bewb6SOddOsLhtqhW9M2NyOdTJO8E/g68B3m16f8a1X901av2UxpkrAwtSyuoTK4KI2vWPXYNZghX/bqvUW9KICYdMPc9DhAtxJrobcJR9qygLtQ2zuCAAdG+1suy7/7N77G6Ym5KDWUeiXOg6P9iAhnL8/hq4azOUfqLRHTCaee739gNLcgHXK9a7+0Ot/lQoWq54cL4aJuXnG65407+lZs6pJNOvzIbXt47a5Bbrl+kBt3zIv5tRbW2ui0zc3EcmmSVotmjWhVzyMuQzBT8upNpq/2iodZJ9f275VwwoDwCuVjNj3xgqzGgO1y+wpw/XB2iTV980e/iEZVJ2Oqnk8AbO9LUqj4bO9PknIdzk+HKyhdCS0aQeo17htru2xE7ZdjJ8f57a+9wLmpImODGe48OMJvPXa6/oFc7hrFK469QKPa+cJIfwoV4ev/6u0dL6xlLM9G5cFvGY6dHOfEy1P1xhH9qXDZe1zuNp6+XKtVfDW+58X4QdhRqtctdG34aXffSm3eX37PuWkeP3OFSuRbVw1IRD1c43vsdUNZLhcqXJmrRcHU0FKPe7Nu70+SS4fumUYXQ8uG3eP5thp2L6aVu6fqBUzky3z73AzPXpilL50AEb718jQnXp6ef/OLcAV+4m/u53XXD/L66wf5N3/0DJOFCv3p+THHNyQT9+7GBP4aiae/sRUYZ3jE7sbG0NO1Cuoa6Ht9DO0U6NrsNDYYaeeGNlGoUawGqCq/8ZVTOM7868KKlj5xO9lMFBwcHcjQn04ssb6XczE084lPzlXIl722GnY3En/+Ek7oMjkzUeADn/0W+3b0cblQXbYuy0A6Qb7ihR3HIveTAh/4/oN86Afm0xF/9shB84lvUsxFswqOnRznwS+d5MzlOQD27+hDolWlfqBhKV4/uGZXzHqxGca4Flzt+4yN08bG3Epo4d6wva/egUpVuThb5tDYQFvWdzOf+LmpEsN9SUYH5iuFtnLbeH7A+ekST78yzf/9xZNMF6vUfG05wxPCSpiHdg7w2usGeMPuIW7ZPcRoLs3Dx07zO//jxSVZNM2ajC/XFMXYOMwHvwbEjTumirX6F9/zw65IrkAm6ZJLJxjPL98Aw9h8xNat4wj9KZf+tFtf0QrhqtYrczX2DGfrgj1TqjGaS5OveEvKUbwyVSSXchERChWPPcN9PH9pluuGskvq1EzNVfj0T9/B069M88z5Wf7HC5c5famwbI38xWQSwm/deyvvfN3Othai9WoDkF7FfPBrwMPHz5AvhysWHRE8P6i7XwIN/eNTxRrpRFhdcC3cKUb34Djw1n3bm6bwXZmrMdyXrLtcPF+ZLtYolD0OjuUYz5f58CNPI4SloLdlk5FoBvzKe1/PkcNj3Hv0CS7OFEm4LqVqWPVyrurh+cr3/9rXlh1bJumQSThMl5qnwJY95YE/+S7vumVXW++1W6teGqvHBH4ZFq9ArflBPZfXb5j5hCsk5xe6mLavDyknbOzd2K2pEwQKadfhbQe28/DxMxSrHrPFGrUoQycsrzAfbblciBq4aNjApS+V4Px0CRT60wnOXp6jXPNxBX7xC9/mXbfs4qUrc1yYbu0vT7pCwnFwnfAYfckEmZTDlUKFK8UahRXSopZreLGYzd4AxJjHBL4FS1agFsKCXrWorMBiC73Rz5tLOXgBLXufGmtDNYjSPh0Hv8PX+tYbhuqlhAWtF0xLRjXow0qaJXYNZZc0cAmCgJoXzupenizWs3Z8hVdnK3zq8ZeWnE+A1143wD237eENu4c4fN0gd//mcYb7UgvcLKMDGSbnqiSignet7nOruf91c9VLY3X0ZoHkNaBxmhq30YvrvTQTdwgLgAEUa8GqfKTG8iznNfYCODSWo5OlvrdlEzz7ar7+eZicq9XH5eu8kE/OVQmCAFBqviICp8cLfPdiHj/KUAmfXYgjMJB2uW4ow4GRfm65boADo/0MZVP84zsP8Nf272Agk2Tv9v4lpSBKNR/XcTg4muPGHa0FOJts/wLdf9eB+iI9VV2S5mlsHkzgW/DKVJFsQ/u2wWySRKQ0iwWnnnMdfXMDZdkVgMbqWOlKnr08h99BA75Y8Zgte7w6XSJfrtVv8PFMLtCwCmag8OyreWp++FyhEvrSl8tjSDrh5+bGHf2M5NL0pxM4jtPUJdJKeA+MhMI/kEkuca1A+Hn9me97Tdvv98jhMR54zy2MDWSYKdUYG8hYgHWTYi6aFjSbpvpAf8rlwGgOgGcuzKzYwNroPKutLLlaqtHNo+IFvNykfHKz9MR0YuGiqFzKoVgNFqyLcMMC9YDyvYuzIGHpitGBNK4jS1wircoNA/XA757hLI7AleL8LGPPcJY37tm2qve8EVUvjbXHBL4FzbIl4tZus6UalwsVE/ctxkqB3F2DaXLpJBP5EqVawNhgWN+/FijFWrAkId9X0Ojm4AWQdKHmB/Wc+F/6odctOUcr4W0U/p2D4QrTxvaG3dDc21h/TOAbWLy4455bdy9Y3PHG3YP88dOvWgrkJiedcDgw0s9zF/Mr79wmubTLRFRe2QtCHZ8s1PBV6w1eFhO7+pKu4GvYGazqh+V4d/SnWla3bFaWoFH47z36RNjS0dIctzwm8BHNutY8cuJ83fcYL3Qycd/8VLyA/SP9XJgpM9NmUxMIA1aL69uIgCuhgDsCU8VavX+uSLin6nzRhEYjXmQ+YJ9JOHXXX1x5cjHtdlayNEcjZssJfGwBfef8FKWaoqrk0gkG0y7pVIK+1LwLpuIFfPCz3+Kh97+lvtDJ6A3+9JmLK+6zuMRBsziuKnhRu8GkE9aXrwfho8wZP2pFuPjmEIu7HyjXDaXr21ulJLa7AMnSHI2YLSXwsQU0W6pSqMx/XWfLYZbEYLrGcH+G89Olek7xbNmLLHdt2bXG2Hxkkw7lWrBshk67k7X5gmTzTT9qDTnpi/PTG2cCCSd8dcIVVHXZQl7tWuabtWHGejZB2SpsqTTJ2AJq1eZuthJmSXiLvpAThSqTc7WmFpyxOSm16Bd6NSy+Ebiu0Ni8SIEbt4fZLQIg0JdyuXF7H4d3DbAtm2wrJfGG4b6mefBNs202WZpjbHwtrqZ57OT4Rg9tU7OlLPjYAlrOj24u9q3DWv5bi4TWkq9Q9QKySZdEoPiquCJcLlTr5XjT7ry/vVj1OLRzsK1GH6uxzDdbmqPVv+kMW8qCb2YBGcZakHLCzJeEI6QSDvtH+sMOSEHon/eCMJsGwhIWs6XqqleIbkbLvF0WLywECwyvBZ1suv27wA8D46r6+k6dZyUa/XoD6QQzpVq9t6ZhrAUS/X+qVGO4L8FsOSwX3JdyKdd8RMIKpIiQ0IBAlYuzFW7dO7xqP/Nms8zbxQLDnaGTFvx/Bu7u4PFXZLFfLy4ClU24K77WMJohULfEYxKO4EQNt/MVn1v3DvP1X3g7D73/LfgaZmqphta8CNwwnGVsIM1n7rujJ8X6arD6N52hYxa8qh4XkX2dOn47xH49z1fOzszV3TOWy25cDfWFSY6DH/gkox6tjiNo9F+1pkwXq9z54GMMpBM4ELVGVFIJh+sHsyRcYayhc1Mz4pnn85dmqfnhaw+NDfRsZkmrMgy9+F7Xkw0PsorIfcB9AHv37l3TY78yVcQVuDBTRgM1YTeumqQrXD+0UJzH82X8QJnIV6j6AWiY7lj1A1yBU+MFVMMbg+sKXhBwYbpIQFhz5qGvPM/jZ64sSQuMZ55Vz69nfJWqPi9OFnq65ECvup82kg0XeFU9ChyFsGXf1R6nWQ7tQDrB9y7lTdiNa0KA64eyiMCr0yVenCxyaLSf2VKNwWyS/VE1x3NTJbb3h52dzkwUcB0BlXoZ6ZqvqMANwxmmilU+/thpxgZS7OhPL1iVGs88JwseDqH7J1BltuSxayhhmSVG22y4wF8rcSPs58cLOCiO43Bxpsz/OjvZ0S4/Ru9SL/IYPc4kXUTgwnQZRckknPpCpqoX1LsleX7AlUKVy4Uqnh9mzTgi+KqkXIeUG5YsGMymODNRwBGYLXmM5DIL0gLjdN5wJhCFcAWqfmCZJcaq2FQC36zT+yMnzjM+WwZVagoEthzJuHpcgdGBNCO5NJcLFSYKVQazCcZnQ3EHGMml6UslmKt4jOcr7BnO4vkBL18pUfGVlBuuaKr6SsKh3qe3sctT1Q9wItGOicU7zihJuQ5e1DhEo8YilllirIaOZdGIyGeAx4GbReSciPzktRyv2Uq3Txx7garnh5kKazNsYwuzLZvgpp0D7B/JMVOqsX8kxz9/+0H27chFwu1w/VCWwahcQL7s4QVh1cbLhSpugysmEVneXqCM5FK4IgQa3hwgFOugoRsUzKcFxhklA5kEAYoXBASBMphNWGaJsSo6mUVz71oer9lKNy8IyJc9Uq7DnG8LmIyrI5NwUA0bh0zky3zxQ3cteP6DhCV4F+dpV7yAdINFnnAdJAjwAkBCy90Pwl6s+0f6mShU6jVnBjKJ+uxgcQ2axowSz5+lGmXR7NuRs8wSY1VsGhdNs0JLadeh4gXsGc5SjJoZG8ZqEQkDoUGgVFsEbpqVCXAdYagv/EzG7hTHcehLCAdGcxSrHmMDmXoZgtjFeG6qyP6RHD/61u0L+g00irdllBhrwaYR+GYr3Yb6klyZq+E6QiYBJavmu+WJKztKVNgrm3Qpe8GyPXIVDVc2K6QSzb2WzfK03/um63nkxHmKVY+RXIrz02XQsLNTs4U6jaJtlRON9WDTCHwzCyrpuvzskb187i9fNnE3gFDY9w5nOT9dRggDphdnyssKfCWqLJl0hdFcuuV+zazqN+7ZVhf9g6P9iAiFSmi5txLtdht3GMa1smkEvpkF9bYD2/mPXz9DvmL+dyMkGQUv+1Iu/emwJEWzptgxjaUHAoWJQoVjJ8fbtrSvxpVilRON9aLrBb5ZauTjZ+D5S7M8fmZyo4dndBn7d/TxpZ/7vrqVfHGmjCNhvZhGoXcEhrNJ5mo+fhBmyIzk0iRcqQttpyxta6lnrBddLfCLv2AvThZ4/MzkklZqhhEjUXpiPOO7/9NPhTXYEw67c2kGs8l6z1MFrtuWrb8GYLZU5cTLU9z54GPMlmr0p12GsmFpgrWytK1yorFedHU9+MapbKHi8epMBTBxN1ozUajUHx85PMate4fZu72PA6O5ev56LKaL+wPky7XQdy+wLZukWPW5nK+SL883wF4LS9sqJxrrRVcLfNwEYHy2zEuTNn01ViZf9ha0eVtOTBc/d3GmDMDOgQwiQjrhgMBEfv6msRaWdi837jC6i6520dww3MeLkwXG8xWz2g0gqhGjzWdxriMM9yUXuFBWKkPb+JwCu7dl6pb+SC7NhZkSZc9fsSH2arE8d2M96EqBb6yFfWWuZuJuMJB2yVf8pp24hDB/fddghoFMYokLZTkxbXwuXq0aM5hNUvF8itWwQ5PVKDc2G10n8A995Xl+66unoyYJxlYhDnM2+1fvS7q8fvc2Tl6cYabkEWiYBSNAMmqEEVOselftQmm21iKVcPnVv/NGE3VjU9JVAp8ve/z6V05t9DCMdSbpCh/4/oMA/OZfnFpQv98R+Cffd4A37tnGxx59lu396br4zkaZMI2CfC0uFOsqZPQaXSXw56aKjG70IIyO40i4IMkLlLfu275ERD/5jbPMVX36Uy4/ded+PvjOmwCWiO8v/dDrgLUVZPONG72EaDOn5gaRvu6QXvfjv7nRwzA6zI3b++qt7+JCXIZhXB0i8pSq3t7sua5OkzQ2F/0pl9Fcql4XvRljuRQJVyzv2zDWga5y0RibCwH6Uw4lTxnNpRjJpSnVfLKpBPfcupvPP3WOc1MlFEg6sGsoC7BsIS7DMNYOE3hjAa4D6YSLalgbfbEfHBbWNd9Trw+0tK5542sMw1h/TOB7BBdAWNJoPOHAUCZByVPK0bL8OOyScITXjPbzg2+4rmXjiWY0C0R+cA3fi2EYa0NHBV5E7gY+Tqg/n1TVX11u/3TC4cbtWV66UurksDYl6YSDI1CuBfVc8cFMom5dL7aqV+sCMYE2jN6jYwIvIi7wCeBdwDngL0XkUVX9bqvXOCIkXAfXge19SSYKtVa79iwCDGQSvOPwKBdnq9dkVRuGsbXppAX/VuC0qp4BEJHPAu8FWgq8HyhjAxmSjlALlEotYHaTNPNIuoLn65KVmClX+Gfff9D80YZhrDsdy4MXkXuAu1X1p6K//wHw11X1ny3a7z7gvujPm4HvOencoDs4shdVxXET4jgbEytQDTTwa4Co71WCuemLQaUw24EzjQCXO3DcXsOu08rYNWqPXrpON6pq0zWiGx5kVdWjwNGNHsdGIiJPtlqoYMxj12ll7Bq1x1a5Tp1cVjmX/QAABtRJREFU6HQeuKHh7z3RNsMwDGMd6KTA/yVwSET2i0gKeD/waAfPZxiGYTTQMReNqnoi8s+APyNMk/xdVX22U+fb5GxpF9UqsOu0MnaN2mNLXKeuKjZmGIZhrB1WbMwwDKNHMYE3DMPoUUzgO4SI3CAiXxWR74rIsyLyz6Pt20XkyyJyKvo9HG0XEXlIRE6LyLdF5NaGY/14tP8pEfnxjXpPnUJEXBH5loj8SfT3fhH5ZnQt/iAK0iMi6ejv09Hz+xqO8YvR9u+JyN/amHfSGURkm4g8IiInReQ5EXmbfY6WIiI/F33XnhGRz4hIZst/llTVfjrwA1wH3Bo9HgCeB14H/D/AR6LtHwEejB7/IPBFwmoFdwDfjLZvB85Ev4ejx8Mb/f7W+Fr9C+C/An8S/f054P3R498GfiZ6/E+B344evx/4g+jx64CngTSwH3gBcDf6fa3h9fk94Keixylgm32Ollyj3cBZINvwGfpHW/2zZBZ8h1DVV1X1RPQ4DzxH+CF8L+EXluj3/x49fi/wKQ15AtgmItcBfwv4sqpeUdUp4MvA3ev4VjqKiOwBfgj4ZPS3AG8HHol2WXyN4mv3CPCOaP/3Ap9V1YqqngVOE5bK2PSIyBBwF/A7AKpaVdVp7HPUjASQFZEE0Ae8yhb/LJnArwPR9O8twDeBnar6avTURWBn9Hg38ErDy85F21pt7xV+E/hXQBD9vQOYVlUv+rvx/davRfT8TLR/L1+j/cAE8J8iN9YnRaQf+xwtQFXPA78GvEwo7DPAU2zxz5IJfIcRkRzw34APqeqCOjYazgm3bJ6qiPwwMK6qT230WLqYBHAr8B9U9S3AHKFLps5W/xwBRDGI9xLeEK8H+um9GcqqMYHvICKSJBT331fVL0SbL0VTZqLf49H2VqUdernkw98E3iMiLwKfJZxOf5zQrRAvwmt8v/VrET0/BEzS29foHHBOVb8Z/f0IoeDb52gh7wTOquqEqtaALxB+vrb0Z8kEvkNE/rzfAZ5T1V9veOpRIM5g+HHgjxu2/8MoC+IOYCaagv8Z8AMiMhxZKT8Qbdv0qOovquoeVd1HGOh6TFV/DPgqcE+02+JrFF+7e6L9Ndr+/igzYj9wCPhf6/Q2OoqqXgReEZGbo03vICy5bZ+jhbwM3CEifdF3L75OW/uztNFR3l79Ae4knDZ/G/ir6OcHCf18fwGcAr4CbI/2F8IGKS8A3wFubzjWPyYM9pwGfmKj31uHrtcR5rNoDhB+qU4DnwfS0fZM9Pfp6PkDDa//N9G1+x7w7o1+P2t8bd4MPBl9lv6IMAvGPkdLr9P/CZwEngH+C2EmzJb+LFmpAsMwjB7FXDSGYRg9igm8YRhGj2ICbxiG0aOYwBuGYfQoJvCGYRg9igm8YRhGj2ICb2wJooUrXxGRvxKR94nIv76GYxXWcmyG0Sk61pPVMLqMtwCo6puhLtL/14aOyDA6jFnwxqZFRPpF5L+LyNNRk4f3icjdUWOME1Hjiz8RkTHg08Bfiyz4zxOWlf0rEfn9ZY7/RyLyVNRE4r5Fz/1GtP0vRGQ02vZmEXkiarTxh1FZgMMi8r8aXrdPRL4TPb5NRL4WnePP4toyhrFWmMAbm5m7gQuq+iZVfT3wJeA/An8buA3YBaCq48BPAV9X1Ter6t8FStHjH1vm+P9YVW8Dbgc+KCI7ou39wJOqegvwNeCXo+2fAn5BVd9IWCbgl1X1JJCK6poAvA/4g6gQ3W8B90Tn+F3g313zFTGMBkzgjc3Md4B3iciDIvK/EZaKPauqpzSswfHpazz+B0XkaeAJwgqDh6LtAfAH0eNPA3dGjTm2qerXou2/R9ioA8KuQu+LHr8veu3NwOuBL4vIXwEfJaxcaBhrhvngjU2Lqj4vYc/RHwT+LWHxrTVBRI4QlqB9m6oWReQYYYGqpkNZ4XB/AHxeRL5AWL79lIi8AXhWVd+2VmM2jMWYBW9sWkTkeqCoqp8G/j3wN4B9IvKaaJd7l3l5LXKTtGIImIrE/TBhf9MYh/kStD8KfENVZ4CpaCYB8A8I3Teo6guAD/wS85b/94BREXlb9F6SInLLim/aMFaBWfDGZuYNwL8XkQCoAT8DjAD/XUSKwNcJG5434yjwbRE50cIP/yXgn4jIc4Ri/ETDc3PAW0Xko4SNNmL3y48Dvy0ifYRNrX+i4TV/QHgT2g9hb1URuQd4KHLvJAjbFz67mgtgGMth5YKNniVys3xYVX94o8diGBuBuWgMwzB6FLPgjS1NlPrYLDj7DlWdXO/xGMZaYgJvGIbRo5iLxjAMo0cxgTcMw+hRTOANwzB6FBN4wzCMHuX/B1Yj6+l5TlHxAAAAAElFTkSuQmCC\n",
            "text/plain": [
              "<Figure size 432x288 with 1 Axes>"
            ]
          },
          "metadata": {
            "tags": [],
            "needs_background": "light"
          }
        }
      ]
    },
    {
      "cell_type": "markdown",
      "metadata": {
        "id": "k06qgsyTvefx"
      },
      "source": [
        "\n",
        "We can use the Pandas method <code>corr()</code>  to find the feature other than price that is most correlated with price."
      ]
    },
    {
      "cell_type": "code",
      "metadata": {
        "jupyter": {
          "outputs_hidden": false
        },
        "id": "vkTEfuCDvefx",
        "outputId": "dcc85606-96cd-4c18-ebf8-9b871fce96eb",
        "colab": {
          "base_uri": "https://localhost:8080/",
          "height": 353
        }
      },
      "source": [
        "df.corr()['price'].sort_values()"
      ],
      "execution_count": 17,
      "outputs": [
        {
          "output_type": "execute_result",
          "data": {
            "text/plain": [
              "zipcode         -0.053203\n",
              "long             0.021626\n",
              "condition        0.036362\n",
              "yr_built         0.054012\n",
              "sqft_lot15       0.082447\n",
              "sqft_lot         0.089661\n",
              "yr_renovated     0.126434\n",
              "floors           0.256794\n",
              "waterfront       0.266369\n",
              "lat              0.307003\n",
              "bedrooms         0.308797\n",
              "sqft_basement    0.323816\n",
              "view             0.397293\n",
              "bathrooms        0.525738\n",
              "sqft_living15    0.585379\n",
              "sqft_above       0.605567\n",
              "grade            0.667434\n",
              "sqft_living      0.702035\n",
              "price            1.000000\n",
              "Name: price, dtype: float64"
            ]
          },
          "metadata": {
            "tags": []
          },
          "execution_count": 17
        }
      ]
    },
    {
      "cell_type": "markdown",
      "metadata": {
        "id": "2GNFcsmcvef0"
      },
      "source": [
        "# Module 4: Model Development"
      ]
    },
    {
      "cell_type": "markdown",
      "metadata": {
        "id": "xnhZB-Hxvef1"
      },
      "source": [
        "\n",
        "We can Fit a linear regression model using the  longitude feature <code>'long'</code> and  caculate the R^2."
      ]
    },
    {
      "cell_type": "code",
      "metadata": {
        "jupyter": {
          "outputs_hidden": false
        },
        "id": "zg5Mj-O6vef2",
        "outputId": "f2669853-5995-4918-dc12-fc078fe17d3b",
        "colab": {
          "base_uri": "https://localhost:8080/",
          "height": 34
        }
      },
      "source": [
        "X = df[['long']]\n",
        "Y = df['price']\n",
        "lm = LinearRegression()\n",
        "lm.fit(X,Y)\n",
        "lm.score(X, Y)"
      ],
      "execution_count": 18,
      "outputs": [
        {
          "output_type": "execute_result",
          "data": {
            "text/plain": [
              "0.00046769430149007363"
            ]
          },
          "metadata": {
            "tags": []
          },
          "execution_count": 18
        }
      ]
    },
    {
      "cell_type": "markdown",
      "metadata": {
        "id": "OS_wS95Fvef6"
      },
      "source": [
        "### Question  6\n",
        "Fit a linear regression model to predict the <code>'price'</code> using the feature <code>'sqft_living'</code> then calculate the R^2. Take a screenshot of your code and the value of the R^2."
      ]
    },
    {
      "cell_type": "code",
      "metadata": {
        "jupyter": {
          "outputs_hidden": false
        },
        "id": "V4KvcgFlvef6",
        "outputId": "065ca4ae-1d9e-47bd-a0a2-08a77ac78086",
        "colab": {
          "base_uri": "https://localhost:8080/",
          "height": 34
        }
      },
      "source": [
        "x = df[['sqft_living']]\n",
        "y = df.price\n",
        "lr = LinearRegression()\n",
        "lr.fit(x, y)\n",
        "lr.score(x, y)"
      ],
      "execution_count": 19,
      "outputs": [
        {
          "output_type": "execute_result",
          "data": {
            "text/plain": [
              "0.49285321790379316"
            ]
          },
          "metadata": {
            "tags": []
          },
          "execution_count": 19
        }
      ]
    },
    {
      "cell_type": "markdown",
      "metadata": {
        "id": "jrB0bgeovef9"
      },
      "source": [
        "### Question 7\n",
        "Fit a linear regression model to predict the <code>'price'</code> using the list of features:"
      ]
    },
    {
      "cell_type": "code",
      "metadata": {
        "id": "CWrVIxJ4vef9"
      },
      "source": [
        "features =[\"floors\", \"waterfront\",\"lat\" ,\"bedrooms\" ,\"sqft_basement\" ,\"view\" ,\"bathrooms\",\"sqft_living15\",\"sqft_above\",\"grade\",\"sqft_living\"]     "
      ],
      "execution_count": 20,
      "outputs": []
    },
    {
      "cell_type": "markdown",
      "metadata": {
        "id": "Rxv4qAvavegA"
      },
      "source": [
        "Then calculate the R^2. Take a screenshot of your code."
      ]
    },
    {
      "cell_type": "code",
      "metadata": {
        "jupyter": {
          "outputs_hidden": false
        },
        "id": "w1fLm0PfvegA"
      },
      "source": [
        "X = df[features]\n",
        "y = df.price\n",
        "lr.fit(X, y)\n",
        "lr.score(X, y)"
      ],
      "execution_count": null,
      "outputs": []
    },
    {
      "cell_type": "markdown",
      "metadata": {
        "id": "DGuQ2GBwvegD"
      },
      "source": [
        "### This will help with Question 8\n",
        "\n",
        "Create a list of tuples, the first element in the tuple contains the name of the estimator:\n",
        "\n",
        "<code>'scale'</code>\n",
        "\n",
        "<code>'polynomial'</code>\n",
        "\n",
        "<code>'model'</code>\n",
        "\n",
        "The second element in the tuple  contains the model constructor \n",
        "\n",
        "<code>StandardScaler()</code>\n",
        "\n",
        "<code>PolynomialFeatures(include_bias=False)</code>\n",
        "\n",
        "<code>LinearRegression()</code>\n"
      ]
    },
    {
      "cell_type": "code",
      "metadata": {
        "id": "cqzuFIKGvegD"
      },
      "source": [
        "Input=[('scale',StandardScaler()),('polynomial', PolynomialFeatures(include_bias=False)),('model',LinearRegression())]"
      ],
      "execution_count": 21,
      "outputs": []
    },
    {
      "cell_type": "markdown",
      "metadata": {
        "id": "3uBG8En7vegG"
      },
      "source": [
        "### Question 8\n",
        "Use the list to create a pipeline object to predict the 'price', fit the object using the features in the list <code>features</code>, and calculate the R^2."
      ]
    },
    {
      "cell_type": "code",
      "metadata": {
        "jupyter": {
          "outputs_hidden": false
        },
        "id": "T8x-NAAsvegG",
        "outputId": "5cc62a9b-2a24-4322-c49f-0c309a189f6f",
        "colab": {
          "base_uri": "https://localhost:8080/",
          "height": 34
        }
      },
      "source": [
        "X = df[features]\n",
        "y = df.price\n",
        "pipe = Pipeline(Input)\n",
        "pipe.fit(X, y)\n",
        "pipe.score(X, y)"
      ],
      "execution_count": 22,
      "outputs": [
        {
          "output_type": "execute_result",
          "data": {
            "text/plain": [
              "0.7513410480451947"
            ]
          },
          "metadata": {
            "tags": []
          },
          "execution_count": 22
        }
      ]
    },
    {
      "cell_type": "markdown",
      "metadata": {
        "id": "IzXIr5s-vegJ"
      },
      "source": [
        "# Module 5: Model Evaluation and Refinement"
      ]
    },
    {
      "cell_type": "markdown",
      "metadata": {
        "id": "9H-RrvsmvegK"
      },
      "source": [
        "Import the necessary modules:"
      ]
    },
    {
      "cell_type": "code",
      "metadata": {
        "jupyter": {
          "outputs_hidden": false
        },
        "id": "JhpDB886vegK",
        "outputId": "3d7fb5a2-3bd3-4f0c-eb5c-b10fdf7f8dc9",
        "colab": {
          "base_uri": "https://localhost:8080/",
          "height": 34
        }
      },
      "source": [
        "from sklearn.model_selection import cross_val_score\n",
        "from sklearn.model_selection import train_test_split\n",
        "print(\"done\")"
      ],
      "execution_count": 23,
      "outputs": [
        {
          "output_type": "stream",
          "text": [
            "done\n"
          ],
          "name": "stdout"
        }
      ]
    },
    {
      "cell_type": "markdown",
      "metadata": {
        "id": "_eR6B5-hvegN"
      },
      "source": [
        "We will split the data into training and testing sets:"
      ]
    },
    {
      "cell_type": "code",
      "metadata": {
        "jupyter": {
          "outputs_hidden": false
        },
        "id": "Q-wALXiivegO",
        "outputId": "3c84f344-3327-48dd-8071-8e66699fd598",
        "colab": {
          "base_uri": "https://localhost:8080/",
          "height": 50
        }
      },
      "source": [
        "features =[\"floors\", \"waterfront\",\"lat\" ,\"bedrooms\" ,\"sqft_basement\" ,\"view\" ,\"bathrooms\",\"sqft_living15\",\"sqft_above\",\"grade\",\"sqft_living\"]    \n",
        "X = df[features]\n",
        "Y = df['price']\n",
        "\n",
        "x_train, x_test, y_train, y_test = train_test_split(X, Y, test_size=0.15, random_state=1)\n",
        "\n",
        "\n",
        "print(\"number of test samples:\", x_test.shape[0])\n",
        "print(\"number of training samples:\",x_train.shape[0])"
      ],
      "execution_count": 24,
      "outputs": [
        {
          "output_type": "stream",
          "text": [
            "number of test samples: 3242\n",
            "number of training samples: 18371\n"
          ],
          "name": "stdout"
        }
      ]
    },
    {
      "cell_type": "markdown",
      "metadata": {
        "id": "p-TN2HyRvegQ"
      },
      "source": [
        "### Question 9\n",
        "Create and fit a Ridge regression object using the training data, set the regularization parameter to 0.1, and calculate the R^2 using the test data. \n"
      ]
    },
    {
      "cell_type": "code",
      "metadata": {
        "id": "d1_GfQEYvegQ"
      },
      "source": [
        "from sklearn.linear_model import Ridge"
      ],
      "execution_count": 25,
      "outputs": []
    },
    {
      "cell_type": "code",
      "metadata": {
        "jupyter": {
          "outputs_hidden": false
        },
        "id": "dn8o5zjGvegT",
        "outputId": "430dfd24-2b26-4794-e37f-b1016a4a7e42"
      },
      "source": [
        "R = Ridge(alpha=0.1)\n",
        "R.fit(x_train, y_train)\n",
        "R.score(x_test, y_test)"
      ],
      "execution_count": null,
      "outputs": [
        {
          "output_type": "execute_result",
          "data": {
            "text/plain": [
              "0.6478759163939121"
            ]
          },
          "metadata": {
            "tags": []
          },
          "execution_count": 33
        }
      ]
    },
    {
      "cell_type": "markdown",
      "metadata": {
        "id": "E-JpfxmOvegV"
      },
      "source": [
        "### Question 10\n",
        "Perform a second order polynomial transform on both the training data and testing data. Create and fit a Ridge regression object using the training data, set the regularisation parameter to 0.1, and calculate the R^2 utilising the test data provided. Take a screenshot of your code and the R^2."
      ]
    },
    {
      "cell_type": "code",
      "metadata": {
        "jupyter": {
          "outputs_hidden": false
        },
        "id": "EkFyihjsvegW",
        "outputId": "141e0b1f-3de7-47cd-a15e-6b3b6930f57c",
        "colab": {
          "base_uri": "https://localhost:8080/",
          "height": 34
        }
      },
      "source": [
        "pr = PolynomialFeatures(degree = 2)\n",
        "X_train_pr = pr.fit_transform(x_train)\n",
        "X_test_pr = pr.fit_transform(x_test)\n",
        "\n",
        "rr = Ridge(alpha = 0.1)\n",
        "rr.fit(X_train_pr, y_train)\n",
        "rr.score(X_test_pr, y_test)"
      ],
      "execution_count": 26,
      "outputs": [
        {
          "output_type": "execute_result",
          "data": {
            "text/plain": [
              "0.7002744277220405"
            ]
          },
          "metadata": {
            "tags": []
          },
          "execution_count": 26
        }
      ]
    }
    
